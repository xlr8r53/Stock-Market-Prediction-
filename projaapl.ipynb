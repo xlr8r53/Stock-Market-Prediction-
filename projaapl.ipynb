{
  "nbformat": 4,
  "nbformat_minor": 0,
  "metadata": {
    "colab": {
      "name": "projaapl.ipynb",
      "provenance": [],
      "collapsed_sections": [],
      "authorship_tag": "ABX9TyOQw0VvD84/jwHf4w4tdit2",
      "include_colab_link": true
    },
    "kernelspec": {
      "name": "python3",
      "display_name": "Python 3"
    },
    "language_info": {
      "name": "python"
    }
  },
  "cells": [
    {
      "cell_type": "markdown",
      "metadata": {
        "id": "view-in-github",
        "colab_type": "text"
      },
      "source": [
        "<a href=\"https://colab.research.google.com/github/xlr8r53/Stock-Market-Prediction-/blob/main/projaapl.ipynb\" target=\"_parent\"><img src=\"https://colab.research.google.com/assets/colab-badge.svg\" alt=\"Open In Colab\"/></a>"
      ]
    },
    {
      "cell_type": "code",
      "metadata": {
        "id": "IEgnZ9Nou_wW"
      },
      "source": [
        "import pandas as pd"
      ],
      "execution_count": 102,
      "outputs": []
    },
    {
      "cell_type": "code",
      "metadata": {
        "id": "lvAHIWlBvDAb"
      },
      "source": [
        "df=pd.read_csv('AAPL.csv')"
      ],
      "execution_count": 103,
      "outputs": []
    },
    {
      "cell_type": "code",
      "metadata": {
        "colab": {
          "base_uri": "https://localhost:8080/",
          "height": 423
        },
        "id": "5Sj5DPh7vKbC",
        "outputId": "50e7c2ac-d43f-454e-89be-6f878fdee962"
      },
      "source": [
        "df"
      ],
      "execution_count": 104,
      "outputs": [
        {
          "output_type": "execute_result",
          "data": {
            "text/html": [
              "<div>\n",
              "<style scoped>\n",
              "    .dataframe tbody tr th:only-of-type {\n",
              "        vertical-align: middle;\n",
              "    }\n",
              "\n",
              "    .dataframe tbody tr th {\n",
              "        vertical-align: top;\n",
              "    }\n",
              "\n",
              "    .dataframe thead th {\n",
              "        text-align: right;\n",
              "    }\n",
              "</style>\n",
              "<table border=\"1\" class=\"dataframe\">\n",
              "  <thead>\n",
              "    <tr style=\"text-align: right;\">\n",
              "      <th></th>\n",
              "      <th>Date</th>\n",
              "      <th>Open</th>\n",
              "      <th>High</th>\n",
              "      <th>Low</th>\n",
              "      <th>Close</th>\n",
              "      <th>Adj Close</th>\n",
              "      <th>Volume</th>\n",
              "    </tr>\n",
              "  </thead>\n",
              "  <tbody>\n",
              "    <tr>\n",
              "      <th>0</th>\n",
              "      <td>2011-10-31</td>\n",
              "      <td>14.372143</td>\n",
              "      <td>14.618929</td>\n",
              "      <td>14.323214</td>\n",
              "      <td>14.456429</td>\n",
              "      <td>12.412530</td>\n",
              "      <td>385501200</td>\n",
              "    </tr>\n",
              "    <tr>\n",
              "      <th>1</th>\n",
              "      <td>2011-11-01</td>\n",
              "      <td>14.193214</td>\n",
              "      <td>14.267857</td>\n",
              "      <td>14.043571</td>\n",
              "      <td>14.161071</td>\n",
              "      <td>12.158929</td>\n",
              "      <td>531790000</td>\n",
              "    </tr>\n",
              "    <tr>\n",
              "      <th>2</th>\n",
              "      <td>2011-11-02</td>\n",
              "      <td>14.288929</td>\n",
              "      <td>14.301429</td>\n",
              "      <td>14.111071</td>\n",
              "      <td>14.193214</td>\n",
              "      <td>12.186525</td>\n",
              "      <td>327350800</td>\n",
              "    </tr>\n",
              "    <tr>\n",
              "      <th>3</th>\n",
              "      <td>2011-11-03</td>\n",
              "      <td>14.252500</td>\n",
              "      <td>14.407143</td>\n",
              "      <td>14.120000</td>\n",
              "      <td>14.395357</td>\n",
              "      <td>12.360092</td>\n",
              "      <td>441386400</td>\n",
              "    </tr>\n",
              "    <tr>\n",
              "      <th>4</th>\n",
              "      <td>2011-11-04</td>\n",
              "      <td>14.358214</td>\n",
              "      <td>14.408571</td>\n",
              "      <td>14.255714</td>\n",
              "      <td>14.294286</td>\n",
              "      <td>12.273310</td>\n",
              "      <td>302229200</td>\n",
              "    </tr>\n",
              "    <tr>\n",
              "      <th>...</th>\n",
              "      <td>...</td>\n",
              "      <td>...</td>\n",
              "      <td>...</td>\n",
              "      <td>...</td>\n",
              "      <td>...</td>\n",
              "      <td>...</td>\n",
              "      <td>...</td>\n",
              "    </tr>\n",
              "    <tr>\n",
              "      <th>2511</th>\n",
              "      <td>2021-10-22</td>\n",
              "      <td>149.690002</td>\n",
              "      <td>150.179993</td>\n",
              "      <td>148.639999</td>\n",
              "      <td>148.690002</td>\n",
              "      <td>148.690002</td>\n",
              "      <td>58839600</td>\n",
              "    </tr>\n",
              "    <tr>\n",
              "      <th>2512</th>\n",
              "      <td>2021-10-25</td>\n",
              "      <td>148.679993</td>\n",
              "      <td>149.369995</td>\n",
              "      <td>147.619995</td>\n",
              "      <td>148.639999</td>\n",
              "      <td>148.639999</td>\n",
              "      <td>50720600</td>\n",
              "    </tr>\n",
              "    <tr>\n",
              "      <th>2513</th>\n",
              "      <td>2021-10-26</td>\n",
              "      <td>149.330002</td>\n",
              "      <td>150.839996</td>\n",
              "      <td>149.009995</td>\n",
              "      <td>149.320007</td>\n",
              "      <td>149.320007</td>\n",
              "      <td>60893400</td>\n",
              "    </tr>\n",
              "    <tr>\n",
              "      <th>2514</th>\n",
              "      <td>2021-10-27</td>\n",
              "      <td>149.360001</td>\n",
              "      <td>149.729996</td>\n",
              "      <td>148.490005</td>\n",
              "      <td>148.850006</td>\n",
              "      <td>148.850006</td>\n",
              "      <td>56094900</td>\n",
              "    </tr>\n",
              "    <tr>\n",
              "      <th>2515</th>\n",
              "      <td>2021-10-28</td>\n",
              "      <td>149.820007</td>\n",
              "      <td>153.169998</td>\n",
              "      <td>149.720001</td>\n",
              "      <td>152.570007</td>\n",
              "      <td>152.570007</td>\n",
              "      <td>100077900</td>\n",
              "    </tr>\n",
              "  </tbody>\n",
              "</table>\n",
              "<p>2516 rows × 7 columns</p>\n",
              "</div>"
            ],
            "text/plain": [
              "            Date        Open        High  ...       Close   Adj Close     Volume\n",
              "0     2011-10-31   14.372143   14.618929  ...   14.456429   12.412530  385501200\n",
              "1     2011-11-01   14.193214   14.267857  ...   14.161071   12.158929  531790000\n",
              "2     2011-11-02   14.288929   14.301429  ...   14.193214   12.186525  327350800\n",
              "3     2011-11-03   14.252500   14.407143  ...   14.395357   12.360092  441386400\n",
              "4     2011-11-04   14.358214   14.408571  ...   14.294286   12.273310  302229200\n",
              "...          ...         ...         ...  ...         ...         ...        ...\n",
              "2511  2021-10-22  149.690002  150.179993  ...  148.690002  148.690002   58839600\n",
              "2512  2021-10-25  148.679993  149.369995  ...  148.639999  148.639999   50720600\n",
              "2513  2021-10-26  149.330002  150.839996  ...  149.320007  149.320007   60893400\n",
              "2514  2021-10-27  149.360001  149.729996  ...  148.850006  148.850006   56094900\n",
              "2515  2021-10-28  149.820007  153.169998  ...  152.570007  152.570007  100077900\n",
              "\n",
              "[2516 rows x 7 columns]"
            ]
          },
          "metadata": {},
          "execution_count": 104
        }
      ]
    },
    {
      "cell_type": "code",
      "metadata": {
        "id": "8479r-PdvQFY"
      },
      "source": [
        "df1=df.reset_index()['Close']"
      ],
      "execution_count": 105,
      "outputs": []
    },
    {
      "cell_type": "code",
      "metadata": {
        "colab": {
          "base_uri": "https://localhost:8080/"
        },
        "id": "tuhAxhamvb2i",
        "outputId": "0c12fbe6-9904-4acf-cc05-4ac78636f34f"
      },
      "source": [
        "df1"
      ],
      "execution_count": 106,
      "outputs": [
        {
          "output_type": "execute_result",
          "data": {
            "text/plain": [
              "0        14.456429\n",
              "1        14.161071\n",
              "2        14.193214\n",
              "3        14.395357\n",
              "4        14.294286\n",
              "           ...    \n",
              "2511    148.690002\n",
              "2512    148.639999\n",
              "2513    149.320007\n",
              "2514    148.850006\n",
              "2515    152.570007\n",
              "Name: Close, Length: 2516, dtype: float64"
            ]
          },
          "metadata": {},
          "execution_count": 106
        }
      ]
    },
    {
      "cell_type": "code",
      "metadata": {
        "colab": {
          "base_uri": "https://localhost:8080/",
          "height": 283
        },
        "id": "anD0aw_evj-b",
        "outputId": "1e5a6446-82c6-4ff8-f945-628aa4ec7616"
      },
      "source": [
        "import matplotlib.pyplot as plt\n",
        "plt.plot(df1)"
      ],
      "execution_count": 107,
      "outputs": [
        {
          "output_type": "execute_result",
          "data": {
            "text/plain": [
              "[<matplotlib.lines.Line2D at 0x7f970d286b90>]"
            ]
          },
          "metadata": {},
          "execution_count": 107
        },
        {
          "output_type": "display_data",
          "data": {
            "image/png": "[encoded data removed]",
            "text/plain": [
              "<Figure size 432x288 with 1 Axes>"
            ]
          },
          "metadata": {
            "needs_background": "light"
          }
        }
      ]
    },
    {
      "cell_type": "code",
      "metadata": {
        "id": "olhC1YkwvvR1"
      },
      "source": [
        "import numpy as np"
      ],
      "execution_count": 108,
      "outputs": []
    },
    {
      "cell_type": "code",
      "metadata": {
        "id": "ZAir6ga0vyXm"
      },
      "source": [
        "from sklearn.preprocessing import MinMaxScaler\n",
        "scaler=MinMaxScaler(feature_range=(0,1))\n",
        "df1=scaler.fit_transform(np.array(df1).reshape(-1,1))"
      ],
      "execution_count": 109,
      "outputs": []
    },
    {
      "cell_type": "code",
      "metadata": {
        "colab": {
          "base_uri": "https://localhost:8080/"
        },
        "id": "wYw3x6Bcv2xi",
        "outputId": "7de1a968-47f3-45e5-fc1d-0b5c8ceb0731"
      },
      "source": [
        "print(df1)"
      ],
      "execution_count": 110,
      "outputs": [
        {
          "output_type": "stream",
          "name": "stdout",
          "text": [
            "[[0.01024169]\n",
            " [0.00818639]\n",
            " [0.00841006]\n",
            " ...\n",
            " [0.94871454]\n",
            " [0.94544396]\n",
            " [0.97133026]]\n"
          ]
        }
      ]
    },
    {
      "cell_type": "code",
      "metadata": {
        "id": "BsePoL6yv69I"
      },
      "source": [
        "##splitting dataset into train and test split\n",
        "training_size=int(len(df1)*0.65)\n",
        "test_size=len(df1)-training_size\n",
        "train_data,test_data=df1[0:training_size,:],df1[training_size:len(df1),:1]"
      ],
      "execution_count": 111,
      "outputs": []
    },
    {
      "cell_type": "code",
      "metadata": {
        "colab": {
          "base_uri": "https://localhost:8080/"
        },
        "id": "X2EINuBawDLR",
        "outputId": "1b77f159-6f1c-4ac6-ca5d-3d95b4a9a050"
      },
      "source": [
        "training_size,test_size"
      ],
      "execution_count": 112,
      "outputs": [
        {
          "output_type": "execute_result",
          "data": {
            "text/plain": [
              "(1635, 881)"
            ]
          },
          "metadata": {},
          "execution_count": 112
        }
      ]
    },
    {
      "cell_type": "code",
      "metadata": {
        "colab": {
          "base_uri": "https://localhost:8080/"
        },
        "id": "P6UAxK8MwIVX",
        "outputId": "baf3c1be-e729-44c9-fde2-b7ceea09e20c"
      },
      "source": [
        "\n",
        "train_data"
      ],
      "execution_count": 113,
      "outputs": [
        {
          "output_type": "execute_result",
          "data": {
            "text/plain": [
              "array([[0.01024169],\n",
              "       [0.00818639],\n",
              "       [0.00841006],\n",
              "       ...,\n",
              "       [0.19202735],\n",
              "       [0.19714196],\n",
              "       [0.20382232]])"
            ]
          },
          "metadata": {},
          "execution_count": 113
        }
      ]
    },
    {
      "cell_type": "code",
      "metadata": {
        "id": "xJWfXsZpwJOs"
      },
      "source": [
        "import numpy\n",
        "# convert an array of values into a dataset matrix\n",
        "def create_dataset(dataset, time_step=1):\n",
        "\tdataX, dataY = [], []\n",
        "\tfor i in range(len(dataset)-time_step-1):\n",
        "\t\ta = dataset[i:(i+time_step), 0]   ###i=0, 0,1,2,3-----99   100 \n",
        "\t\tdataX.append(a)\n",
        "\t\tdataY.append(dataset[i + time_step, 0])\n",
        "\treturn numpy.array(dataX), numpy.array(dataY)"
      ],
      "execution_count": 114,
      "outputs": []
    },
    {
      "cell_type": "code",
      "metadata": {
        "id": "j4uybeeNwPT-"
      },
      "source": [
        "# reshape into X=t,t+1,t+2,t+3 and Y=t+4\n",
        "time_step = 100\n",
        "X_train, y_train = create_dataset(train_data, time_step)\n",
        "X_test, ytest = create_dataset(test_data, time_step)"
      ],
      "execution_count": 115,
      "outputs": []
    },
    {
      "cell_type": "code",
      "metadata": {
        "colab": {
          "base_uri": "https://localhost:8080/"
        },
        "id": "zyCuHhTpwTiX",
        "outputId": "e77453d1-f62d-4bf6-eb04-79b2ec6e3ca1"
      },
      "source": [
        "print(X_train.shape), print(y_train.shape)"
      ],
      "execution_count": 116,
      "outputs": [
        {
          "output_type": "stream",
          "name": "stdout",
          "text": [
            "(1534, 100)\n",
            "(1534,)\n"
          ]
        },
        {
          "output_type": "execute_result",
          "data": {
            "text/plain": [
              "(None, None)"
            ]
          },
          "metadata": {},
          "execution_count": 116
        }
      ]
    },
    {
      "cell_type": "code",
      "metadata": {
        "colab": {
          "base_uri": "https://localhost:8080/"
        },
        "id": "ci-m6gMGwYt9",
        "outputId": "c0d373e6-3e4f-4872-f673-d056e9f3390a"
      },
      "source": [
        "print(X_test.shape), print(ytest.shape)"
      ],
      "execution_count": 117,
      "outputs": [
        {
          "output_type": "stream",
          "name": "stdout",
          "text": [
            "(780, 100)\n",
            "(780,)\n"
          ]
        },
        {
          "output_type": "execute_result",
          "data": {
            "text/plain": [
              "(None, None)"
            ]
          },
          "metadata": {},
          "execution_count": 117
        }
      ]
    },
    {
      "cell_type": "code",
      "metadata": {
        "id": "1kLBw7yEwrIK"
      },
      "source": [
        "# reshape input to be [samples, time steps, features] which is required for LSTM\n",
        "X_train =X_train.reshape(X_train.shape[0],X_train.shape[1] , 1)\n",
        "X_test = X_test.reshape(X_test.shape[0],X_test.shape[1] , 1)"
      ],
      "execution_count": 118,
      "outputs": []
    },
    {
      "cell_type": "code",
      "metadata": {
        "id": "0id_fYnKwwRw"
      },
      "source": [
        "### Create the Stacked LSTM model\n",
        "from tensorflow.keras.models import Sequential\n",
        "from tensorflow.keras.layers import Dense\n",
        "from tensorflow.keras.layers import LSTM"
      ],
      "execution_count": 119,
      "outputs": []
    },
    {
      "cell_type": "code",
      "metadata": {
        "id": "4lLrUG7owzJD"
      },
      "source": [
        "model=Sequential()\n",
        "model.add(LSTM(50,return_sequences=True,input_shape=(100,1)))\n",
        "model.add(LSTM(50,return_sequences=True))\n",
        "model.add(LSTM(50))\n",
        "model.add(Dense(1))\n",
        "model.compile(loss='mean_squared_error',optimizer='adam')"
      ],
      "execution_count": 120,
      "outputs": []
    },
    {
      "cell_type": "code",
      "metadata": {
        "colab": {
          "base_uri": "https://localhost:8080/"
        },
        "id": "5c-1QWKYw22T",
        "outputId": "baff397e-4dc4-44b5-ae9c-cbaebc6b6a67"
      },
      "source": [
        "model.summary()"
      ],
      "execution_count": 121,
      "outputs": [
        {
          "output_type": "stream",
          "name": "stdout",
          "text": [
            "Model: \"sequential_2\"\n",
            "_________________________________________________________________\n",
            "Layer (type)                 Output Shape              Param #   \n",
            "=================================================================\n",
            "lstm_6 (LSTM)                (None, 100, 50)           10400     \n",
            "_________________________________________________________________\n",
            "lstm_7 (LSTM)                (None, 100, 50)           20200     \n",
            "_________________________________________________________________\n",
            "lstm_8 (LSTM)                (None, 50)                20200     \n",
            "_________________________________________________________________\n",
            "dense_2 (Dense)              (None, 1)                 51        \n",
            "=================================================================\n",
            "Total params: 50,851\n",
            "Trainable params: 50,851\n",
            "Non-trainable params: 0\n",
            "_________________________________________________________________\n"
          ]
        }
      ]
    },
    {
      "cell_type": "code",
      "metadata": {
        "colab": {
          "base_uri": "https://localhost:8080/"
        },
        "id": "VUqG-4p1w3ze",
        "outputId": "8fd6f9a8-2220-4b30-e3c7-5febb9c53fc8"
      },
      "source": [
        "model.fit(X_train,y_train,validation_data=(X_test,ytest),epochs=100,batch_size=64,verbose=1)"
      ],
      "execution_count": 122,
      "outputs": [
        {
          "output_type": "stream",
          "name": "stdout",
          "text": [
            "Epoch 1/100\n",
            "24/24 [==============================] - 8s 192ms/step - loss: 0.0016 - val_loss: 0.0189\n",
            "Epoch 2/100\n",
            "24/24 [==============================] - 4s 150ms/step - loss: 1.8366e-04 - val_loss: 0.0065\n",
            "Epoch 3/100\n",
            "24/24 [==============================] - 4s 150ms/step - loss: 8.4082e-05 - val_loss: 0.0039\n",
            "Epoch 4/100\n",
            "24/24 [==============================] - 4s 149ms/step - loss: 7.7491e-05 - val_loss: 0.0039\n",
            "Epoch 5/100\n",
            "24/24 [==============================] - 4s 149ms/step - loss: 7.6859e-05 - val_loss: 0.0040\n",
            "Epoch 6/100\n",
            "24/24 [==============================] - 4s 152ms/step - loss: 7.8734e-05 - val_loss: 0.0055\n",
            "Epoch 7/100\n",
            "24/24 [==============================] - 4s 151ms/step - loss: 7.5723e-05 - val_loss: 0.0038\n",
            "Epoch 8/100\n",
            "24/24 [==============================] - 4s 150ms/step - loss: 8.0668e-05 - val_loss: 0.0054\n",
            "Epoch 9/100\n",
            "24/24 [==============================] - 4s 151ms/step - loss: 7.0608e-05 - val_loss: 0.0045\n",
            "Epoch 10/100\n",
            "24/24 [==============================] - 4s 151ms/step - loss: 6.7927e-05 - val_loss: 0.0038\n",
            "Epoch 11/100\n",
            "24/24 [==============================] - 4s 150ms/step - loss: 7.1565e-05 - val_loss: 0.0048\n",
            "Epoch 12/100\n",
            "24/24 [==============================] - 4s 149ms/step - loss: 6.9003e-05 - val_loss: 0.0044\n",
            "Epoch 13/100\n",
            "24/24 [==============================] - 4s 151ms/step - loss: 6.5575e-05 - val_loss: 0.0034\n",
            "Epoch 14/100\n",
            "24/24 [==============================] - 4s 152ms/step - loss: 6.0475e-05 - val_loss: 0.0040\n",
            "Epoch 15/100\n",
            "24/24 [==============================] - 4s 148ms/step - loss: 6.1882e-05 - val_loss: 0.0029\n",
            "Epoch 16/100\n",
            "24/24 [==============================] - 4s 149ms/step - loss: 6.4050e-05 - val_loss: 0.0036\n",
            "Epoch 17/100\n",
            "24/24 [==============================] - 4s 150ms/step - loss: 5.7262e-05 - val_loss: 0.0042\n",
            "Epoch 18/100\n",
            "24/24 [==============================] - 4s 152ms/step - loss: 5.8768e-05 - val_loss: 0.0030\n",
            "Epoch 19/100\n",
            "24/24 [==============================] - 4s 148ms/step - loss: 5.9471e-05 - val_loss: 0.0039\n",
            "Epoch 20/100\n",
            "24/24 [==============================] - 4s 149ms/step - loss: 5.0739e-05 - val_loss: 0.0033\n",
            "Epoch 21/100\n",
            "24/24 [==============================] - 4s 150ms/step - loss: 5.0450e-05 - val_loss: 0.0035\n",
            "Epoch 22/100\n",
            "24/24 [==============================] - 4s 151ms/step - loss: 4.9495e-05 - val_loss: 0.0025\n",
            "Epoch 23/100\n",
            "24/24 [==============================] - 4s 153ms/step - loss: 4.6988e-05 - val_loss: 0.0022\n",
            "Epoch 24/100\n",
            "24/24 [==============================] - 4s 151ms/step - loss: 4.5422e-05 - val_loss: 0.0016\n",
            "Epoch 25/100\n",
            "24/24 [==============================] - 4s 153ms/step - loss: 4.7421e-05 - val_loss: 0.0030\n",
            "Epoch 26/100\n",
            "24/24 [==============================] - 4s 151ms/step - loss: 4.3346e-05 - val_loss: 0.0028\n",
            "Epoch 27/100\n",
            "24/24 [==============================] - 4s 149ms/step - loss: 4.3482e-05 - val_loss: 0.0017\n",
            "Epoch 28/100\n",
            "24/24 [==============================] - 4s 149ms/step - loss: 4.2580e-05 - val_loss: 0.0026\n",
            "Epoch 29/100\n",
            "24/24 [==============================] - 4s 151ms/step - loss: 4.7416e-05 - val_loss: 0.0011\n",
            "Epoch 30/100\n",
            "24/24 [==============================] - 4s 151ms/step - loss: 4.4639e-05 - val_loss: 0.0062\n",
            "Epoch 31/100\n",
            "24/24 [==============================] - 4s 151ms/step - loss: 4.5832e-05 - val_loss: 0.0019\n",
            "Epoch 32/100\n",
            "24/24 [==============================] - 4s 148ms/step - loss: 4.0844e-05 - val_loss: 0.0023\n",
            "Epoch 33/100\n",
            "24/24 [==============================] - 4s 148ms/step - loss: 4.2490e-05 - val_loss: 0.0036\n",
            "Epoch 34/100\n",
            "24/24 [==============================] - 4s 148ms/step - loss: 3.7961e-05 - val_loss: 0.0024\n",
            "Epoch 35/100\n",
            "24/24 [==============================] - 4s 151ms/step - loss: 3.6715e-05 - val_loss: 0.0036\n",
            "Epoch 36/100\n",
            "24/24 [==============================] - 4s 153ms/step - loss: 3.9986e-05 - val_loss: 0.0041\n",
            "Epoch 37/100\n",
            "24/24 [==============================] - 4s 153ms/step - loss: 3.6426e-05 - val_loss: 0.0016\n",
            "Epoch 38/100\n",
            "24/24 [==============================] - 4s 151ms/step - loss: 3.6405e-05 - val_loss: 0.0024\n",
            "Epoch 39/100\n",
            "24/24 [==============================] - 4s 151ms/step - loss: 4.0581e-05 - val_loss: 9.5851e-04\n",
            "Epoch 40/100\n",
            "24/24 [==============================] - 4s 149ms/step - loss: 3.6247e-05 - val_loss: 0.0018\n",
            "Epoch 41/100\n",
            "24/24 [==============================] - 4s 152ms/step - loss: 3.4311e-05 - val_loss: 0.0015\n",
            "Epoch 42/100\n",
            "24/24 [==============================] - 4s 150ms/step - loss: 3.3013e-05 - val_loss: 0.0018\n",
            "Epoch 43/100\n",
            "24/24 [==============================] - 4s 152ms/step - loss: 3.1524e-05 - val_loss: 0.0031\n",
            "Epoch 44/100\n",
            "24/24 [==============================] - 4s 152ms/step - loss: 3.5147e-05 - val_loss: 0.0021\n",
            "Epoch 45/100\n",
            "24/24 [==============================] - 4s 151ms/step - loss: 3.0854e-05 - val_loss: 0.0016\n",
            "Epoch 46/100\n",
            "24/24 [==============================] - 4s 152ms/step - loss: 2.9275e-05 - val_loss: 0.0022\n",
            "Epoch 47/100\n",
            "24/24 [==============================] - 4s 153ms/step - loss: 2.9868e-05 - val_loss: 0.0021\n",
            "Epoch 48/100\n",
            "24/24 [==============================] - 4s 152ms/step - loss: 2.9589e-05 - val_loss: 0.0023\n",
            "Epoch 49/100\n",
            "24/24 [==============================] - 4s 149ms/step - loss: 2.9247e-05 - val_loss: 0.0017\n",
            "Epoch 50/100\n",
            "24/24 [==============================] - 4s 150ms/step - loss: 2.9657e-05 - val_loss: 8.4392e-04\n",
            "Epoch 51/100\n",
            "24/24 [==============================] - 4s 150ms/step - loss: 3.0240e-05 - val_loss: 0.0024\n",
            "Epoch 52/100\n",
            "24/24 [==============================] - 4s 151ms/step - loss: 2.9379e-05 - val_loss: 0.0019\n",
            "Epoch 53/100\n",
            "24/24 [==============================] - 4s 149ms/step - loss: 2.7442e-05 - val_loss: 0.0014\n",
            "Epoch 54/100\n",
            "24/24 [==============================] - 4s 151ms/step - loss: 2.8056e-05 - val_loss: 0.0013\n",
            "Epoch 55/100\n",
            "24/24 [==============================] - 4s 150ms/step - loss: 2.5855e-05 - val_loss: 6.9290e-04\n",
            "Epoch 56/100\n",
            "24/24 [==============================] - 4s 154ms/step - loss: 2.8941e-05 - val_loss: 0.0010\n",
            "Epoch 57/100\n",
            "24/24 [==============================] - 4s 151ms/step - loss: 2.6320e-05 - val_loss: 0.0017\n",
            "Epoch 58/100\n",
            "24/24 [==============================] - 4s 150ms/step - loss: 2.4834e-05 - val_loss: 0.0014\n",
            "Epoch 59/100\n",
            "24/24 [==============================] - 4s 150ms/step - loss: 2.5856e-05 - val_loss: 0.0020\n",
            "Epoch 60/100\n",
            "24/24 [==============================] - 4s 150ms/step - loss: 2.5719e-05 - val_loss: 0.0012\n",
            "Epoch 61/100\n",
            "24/24 [==============================] - 4s 148ms/step - loss: 2.5702e-05 - val_loss: 0.0016\n",
            "Epoch 62/100\n",
            "24/24 [==============================] - 4s 149ms/step - loss: 2.3249e-05 - val_loss: 0.0010\n",
            "Epoch 63/100\n",
            "24/24 [==============================] - 4s 150ms/step - loss: 2.1680e-05 - val_loss: 7.3190e-04\n",
            "Epoch 64/100\n",
            "24/24 [==============================] - 4s 152ms/step - loss: 2.3692e-05 - val_loss: 6.9442e-04\n",
            "Epoch 65/100\n",
            "24/24 [==============================] - 4s 152ms/step - loss: 2.2753e-05 - val_loss: 4.8328e-04\n",
            "Epoch 66/100\n",
            "24/24 [==============================] - 4s 149ms/step - loss: 2.2224e-05 - val_loss: 0.0012\n",
            "Epoch 67/100\n",
            "24/24 [==============================] - 4s 150ms/step - loss: 2.0528e-05 - val_loss: 8.5671e-04\n",
            "Epoch 68/100\n",
            "24/24 [==============================] - 4s 150ms/step - loss: 2.2506e-05 - val_loss: 5.2804e-04\n",
            "Epoch 69/100\n",
            "24/24 [==============================] - 4s 151ms/step - loss: 2.3409e-05 - val_loss: 7.4136e-04\n",
            "Epoch 70/100\n",
            "24/24 [==============================] - 4s 151ms/step - loss: 2.0687e-05 - val_loss: 5.7785e-04\n",
            "Epoch 71/100\n",
            "24/24 [==============================] - 4s 150ms/step - loss: 2.3245e-05 - val_loss: 5.6354e-04\n",
            "Epoch 72/100\n",
            "24/24 [==============================] - 4s 151ms/step - loss: 1.9891e-05 - val_loss: 0.0010\n",
            "Epoch 73/100\n",
            "24/24 [==============================] - 4s 150ms/step - loss: 1.9223e-05 - val_loss: 5.7911e-04\n",
            "Epoch 74/100\n",
            "24/24 [==============================] - 4s 149ms/step - loss: 1.9380e-05 - val_loss: 8.8467e-04\n",
            "Epoch 75/100\n",
            "24/24 [==============================] - 4s 151ms/step - loss: 1.8532e-05 - val_loss: 0.0011\n",
            "Epoch 76/100\n",
            "24/24 [==============================] - 4s 151ms/step - loss: 2.1169e-05 - val_loss: 0.0011\n",
            "Epoch 77/100\n",
            "24/24 [==============================] - 4s 150ms/step - loss: 2.0408e-05 - val_loss: 4.9422e-04\n",
            "Epoch 78/100\n",
            "24/24 [==============================] - 4s 151ms/step - loss: 1.8991e-05 - val_loss: 8.7417e-04\n",
            "Epoch 79/100\n",
            "24/24 [==============================] - 4s 149ms/step - loss: 1.9207e-05 - val_loss: 9.3410e-04\n",
            "Epoch 80/100\n",
            "24/24 [==============================] - 4s 149ms/step - loss: 1.7856e-05 - val_loss: 6.9198e-04\n",
            "Epoch 81/100\n",
            "24/24 [==============================] - 4s 152ms/step - loss: 1.7780e-05 - val_loss: 6.1658e-04\n",
            "Epoch 82/100\n",
            "24/24 [==============================] - 4s 152ms/step - loss: 2.0120e-05 - val_loss: 4.9104e-04\n",
            "Epoch 83/100\n",
            "24/24 [==============================] - 4s 153ms/step - loss: 2.0874e-05 - val_loss: 9.3346e-04\n",
            "Epoch 84/100\n",
            "24/24 [==============================] - 4s 154ms/step - loss: 1.6323e-05 - val_loss: 6.5781e-04\n",
            "Epoch 85/100\n",
            "24/24 [==============================] - 4s 150ms/step - loss: 1.6286e-05 - val_loss: 6.9900e-04\n",
            "Epoch 86/100\n",
            "24/24 [==============================] - 4s 153ms/step - loss: 2.0087e-05 - val_loss: 3.2781e-04\n",
            "Epoch 87/100\n",
            "24/24 [==============================] - 4s 151ms/step - loss: 2.4095e-05 - val_loss: 7.5380e-04\n",
            "Epoch 88/100\n",
            "24/24 [==============================] - 4s 150ms/step - loss: 2.1751e-05 - val_loss: 4.7822e-04\n",
            "Epoch 89/100\n",
            "24/24 [==============================] - 4s 150ms/step - loss: 1.7135e-05 - val_loss: 4.2982e-04\n",
            "Epoch 90/100\n",
            "24/24 [==============================] - 4s 150ms/step - loss: 1.7840e-05 - val_loss: 4.9611e-04\n",
            "Epoch 91/100\n",
            "24/24 [==============================] - 4s 149ms/step - loss: 1.6706e-05 - val_loss: 3.2892e-04\n",
            "Epoch 92/100\n",
            "24/24 [==============================] - 4s 150ms/step - loss: 1.5683e-05 - val_loss: 4.8140e-04\n",
            "Epoch 93/100\n",
            "24/24 [==============================] - 4s 151ms/step - loss: 1.5095e-05 - val_loss: 3.6641e-04\n",
            "Epoch 94/100\n",
            "24/24 [==============================] - 4s 149ms/step - loss: 1.5579e-05 - val_loss: 5.4507e-04\n",
            "Epoch 95/100\n",
            "24/24 [==============================] - 4s 150ms/step - loss: 1.6084e-05 - val_loss: 4.0447e-04\n",
            "Epoch 96/100\n",
            "24/24 [==============================] - 4s 151ms/step - loss: 1.5923e-05 - val_loss: 2.9494e-04\n",
            "Epoch 97/100\n",
            "24/24 [==============================] - 4s 149ms/step - loss: 1.5338e-05 - val_loss: 4.1388e-04\n",
            "Epoch 98/100\n",
            "24/24 [==============================] - 4s 150ms/step - loss: 1.8133e-05 - val_loss: 2.8907e-04\n",
            "Epoch 99/100\n",
            "24/24 [==============================] - 4s 151ms/step - loss: 1.4846e-05 - val_loss: 5.2885e-04\n",
            "Epoch 100/100\n",
            "24/24 [==============================] - 4s 150ms/step - loss: 1.5404e-05 - val_loss: 4.5955e-04\n"
          ]
        },
        {
          "output_type": "execute_result",
          "data": {
            "text/plain": [
              "<keras.callbacks.History at 0x7f970cfe1890>"
            ]
          },
          "metadata": {},
          "execution_count": 122
        }
      ]
    },
    {
      "cell_type": "code",
      "metadata": {
        "id": "ikFms47py4LS"
      },
      "source": [
        "import tensorflow as tf"
      ],
      "execution_count": 123,
      "outputs": []
    },
    {
      "cell_type": "code",
      "metadata": {
        "colab": {
          "base_uri": "https://localhost:8080/",
          "height": 35
        },
        "id": "TzSvnjEe1m4u",
        "outputId": "89cbf08d-7f69-4ac1-f770-e755aec10e58"
      },
      "source": [
        "\n",
        "tf.__version__"
      ],
      "execution_count": 124,
      "outputs": [
        {
          "output_type": "execute_result",
          "data": {
            "application/vnd.google.colaboratory.intrinsic+json": {
              "type": "string"
            },
            "text/plain": [
              "'2.6.0'"
            ]
          },
          "metadata": {},
          "execution_count": 124
        }
      ]
    },
    {
      "cell_type": "code",
      "metadata": {
        "id": "wyKUXl9f1sSK"
      },
      "source": [
        "### Lets Do the prediction and check performance metrics\n",
        "train_predict=model.predict(X_train)\n",
        "test_predict=model.predict(X_test)"
      ],
      "execution_count": 125,
      "outputs": []
    },
    {
      "cell_type": "code",
      "metadata": {
        "id": "6lxiHDwq1xI3"
      },
      "source": [
        "##Transformback to original form\n",
        "train_predict=scaler.inverse_transform(train_predict)\n",
        "test_predict=scaler.inverse_transform(test_predict)"
      ],
      "execution_count": 126,
      "outputs": []
    },
    {
      "cell_type": "code",
      "metadata": {
        "colab": {
          "base_uri": "https://localhost:8080/"
        },
        "id": "GvMxkjJ614Xp",
        "outputId": "35763377-3bb4-4867-a86a-f436d1ec2e59"
      },
      "source": [
        "### Calculate RMSE performance metrics\n",
        "import math\n",
        "from sklearn.metrics import mean_squared_error\n",
        "math.sqrt(mean_squared_error(y_train,train_predict))"
      ],
      "execution_count": 127,
      "outputs": [
        {
          "output_type": "execute_result",
          "data": {
            "text/plain": [
              "28.039165273502693"
            ]
          },
          "metadata": {},
          "execution_count": 127
        }
      ]
    },
    {
      "cell_type": "code",
      "metadata": {
        "colab": {
          "base_uri": "https://localhost:8080/"
        },
        "id": "kpWZsnbV17_f",
        "outputId": "1258023f-3546-4640-e538-573a0ade7b1f"
      },
      "source": [
        "math.sqrt(mean_squared_error(ytest,test_predict))"
      ],
      "execution_count": 128,
      "outputs": [
        {
          "output_type": "execute_result",
          "data": {
            "text/plain": [
              "93.01750020413205"
            ]
          },
          "metadata": {},
          "execution_count": 128
        }
      ]
    },
    {
      "cell_type": "code",
      "metadata": {
        "colab": {
          "base_uri": "https://localhost:8080/",
          "height": 265
        },
        "id": "0_RDFbnO2A2U",
        "outputId": "03764116-d6dd-45a0-c4fa-5d5228635fd4"
      },
      "source": [
        "### Plotting \n",
        "# shift train predictions for plotting\n",
        "look_back=100\n",
        "trainPredictPlot = numpy.empty_like(df1)\n",
        "trainPredictPlot[:, :] = np.nan\n",
        "trainPredictPlot[look_back:len(train_predict)+look_back, :] = train_predict\n",
        "# shift test predictions for plotting\n",
        "testPredictPlot = numpy.empty_like(df1)\n",
        "testPredictPlot[:, :] = numpy.nan\n",
        "testPredictPlot[len(train_predict)+(look_back*2)+1:len(df1)-1, :] = test_predict\n",
        "# plot baseline and predictions\n",
        "plt.plot(scaler.inverse_transform(df1))\n",
        "plt.plot(trainPredictPlot)\n",
        "plt.plot(testPredictPlot)\n",
        "plt.show()"
      ],
      "execution_count": 129,
      "outputs": [
        {
          "output_type": "display_data",
          "data": {
            "image/png": "[encoded data removed]",
            "text/plain": [
              "<Figure size 432x288 with 1 Axes>"
            ]
          },
          "metadata": {
            "needs_background": "light"
          }
        }
      ]
    },
    {
      "cell_type": "code",
      "metadata": {
        "colab": {
          "base_uri": "https://localhost:8080/"
        },
        "id": "F0fTVVTC2Hxk",
        "outputId": "58e50a02-4477-4aac-c077-42342425eb38"
      },
      "source": [
        "len(test_data)"
      ],
      "execution_count": 130,
      "outputs": [
        {
          "output_type": "execute_result",
          "data": {
            "text/plain": [
              "881"
            ]
          },
          "metadata": {},
          "execution_count": 130
        }
      ]
    },
    {
      "cell_type": "code",
      "metadata": {
        "colab": {
          "base_uri": "https://localhost:8080/"
        },
        "id": "IR-2iKYr2JJC",
        "outputId": "f38f0361-37f1-4168-8149-ea076e39cab0"
      },
      "source": [
        "x_input=test_data[781:].reshape(1,-1)\n",
        "x_input.shape"
      ],
      "execution_count": 135,
      "outputs": [
        {
          "output_type": "execute_result",
          "data": {
            "text/plain": [
              "(1, 100)"
            ]
          },
          "metadata": {},
          "execution_count": 135
        }
      ]
    },
    {
      "cell_type": "code",
      "metadata": {
        "id": "SLv677hT2MCu"
      },
      "source": [
        "temp_input=list(x_input)\n",
        "temp_input=temp_input[0].tolist()"
      ],
      "execution_count": 136,
      "outputs": []
    },
    {
      "cell_type": "code",
      "metadata": {
        "colab": {
          "base_uri": "https://localhost:8080/"
        },
        "id": "YO7sLRpN2POh",
        "outputId": "0ed4d637-4a0e-4046-ce81-3e2ffdda91fb"
      },
      "source": [
        "temp_input"
      ],
      "execution_count": 137,
      "outputs": [
        {
          "output_type": "execute_result",
          "data": {
            "text/plain": [
              "[0.7943013036834626,\n",
              " 0.7872034751327541,\n",
              " 0.7958322208429264,\n",
              " 0.8176128838730364,\n",
              " 0.8117676112551934,\n",
              " 0.8153165046544995,\n",
              " 0.8267287373743661,\n",
              " 0.8174737867639301,\n",
              " 0.8302777351539132,\n",
              " 0.8419682734309165,\n",
              " 0.8400198492249688,\n",
              " 0.8380018799438094,\n",
              " 0.8359142542485143,\n",
              " 0.847535240491623,\n",
              " 0.8583212196004466,\n",
              " 0.8627052245142788,\n",
              " 0.8648623952847856,\n",
              " 0.8835812727067474,\n",
              " 0.8979161382561942,\n",
              " 0.9156608000958407,\n",
              " 0.9064057381464807,\n",
              " 0.9194184470183887,\n",
              " 0.9151736435939039,\n",
              " 0.9231065349483593,\n",
              " 0.9475314765401338,\n",
              " 0.9428691730278481,\n",
              " 0.9283255469964763,\n",
              " 0.9009083231196688,\n",
              " 0.9266554283476652,\n",
              " 0.921436416299548,\n",
              " 0.9311786347508447,\n",
              " 0.9434258815636795,\n",
              " 0.9464181638487122,\n",
              " 0.9309698812276027,\n",
              " 0.918513783469968,\n",
              " 0.9231065349483593,\n",
              " 0.924637459066506,\n",
              " 0.9222715278140742,\n",
              " 0.9350754831627403,\n",
              " 0.9322223954083718,\n",
              " 0.9329878574674452,\n",
              " 0.9265858763137705,\n",
              " 0.9262379213011812,\n",
              " 0.9228282363499055,\n",
              " 0.924637459066506,\n",
              " 0.9457222538235336,\n",
              " 0.9471836259077856,\n",
              " 0.9612400884785376,\n",
              " 0.9547685622496515,\n",
              " 0.9281168004319172,\n",
              " 0.9304827247256661,\n",
              " 0.9408511967880057,\n",
              " 0.9514284293322702,\n",
              " 0.9508020643823033,\n",
              " 0.942034165893563,\n",
              " 0.9363279903848262,\n",
              " 0.9437042845423741,\n",
              " 0.9751574539401834,\n",
              " 0.9661808019282011,\n",
              " 0.9709126574743815,\n",
              " 0.9788455488288367,\n",
              " 0.9833687552320162,\n",
              " 1.0000000000000002,\n",
              " 0.9890052743266174,\n",
              " 0.981768286038658,\n",
              " 0.9462789623593649,\n",
              " 0.9503150122606076,\n",
              " 0.940364040286069,\n",
              " 0.9466964694058487,\n",
              " 0.9450263437983547,\n",
              " 0.9260291747366222,\n",
              " 0.9043181124511857,\n",
              " 0.9077278043611443,\n",
              " 0.9245679070326113,\n",
              " 0.9313873882740867,\n",
              " 0.9320136418851298,\n",
              " 0.9212276627763062,\n",
              " 0.8971506831558037,\n",
              " 0.9035526573507953,\n",
              " 0.8942975954014354,\n",
              " 0.9023000387897853,\n",
              " 0.8778750971980106,\n",
              " 0.8915837160950972,\n",
              " 0.8977769367668468,\n",
              " 0.9067535887788291,\n",
              " 0.9040397094724909,\n",
              " 0.903413455861448,\n",
              " 0.89436714743533,\n",
              " 0.8901920004249809,\n",
              " 0.9100241835796813,\n",
              " 0.9175395678876527,\n",
              " 0.929438964068139,\n",
              " 0.9448175972337957,\n",
              " 0.9482969385992072,\n",
              " 0.9498278557586709,\n",
              " 0.9443305381534172,\n",
              " 0.9439825831408278,\n",
              " 0.9487145430672493,\n",
              " 0.9454439552250798,\n",
              " 0.9713302619424237]"
            ]
          },
          "metadata": {},
          "execution_count": 137
        }
      ]
    },
    {
      "cell_type": "code",
      "metadata": {
        "colab": {
          "base_uri": "https://localhost:8080/"
        },
        "id": "XuMNjp0y2TQA",
        "outputId": "71c25a84-218a-4005-dd13-2da5d861f549"
      },
      "source": [
        "# demonstrate prediction for next 10 days\n",
        "from numpy import array\n",
        "\n",
        "lst_output=[]\n",
        "n_steps=100\n",
        "i=0\n",
        "while(i<30):\n",
        "    \n",
        "    if(len(temp_input)>100):\n",
        "        #print(temp_input)\n",
        "        x_input=np.array(temp_input[1:])\n",
        "        print(\"{} day input {}\".format(i,x_input))\n",
        "        x_input=x_input.reshape(1,-1)\n",
        "        x_input = x_input.reshape((1, n_steps, 1))\n",
        "        #print(x_input)\n",
        "        yhat = model.predict(x_input, verbose=0)\n",
        "        print(\"{} day output {}\".format(i,yhat))\n",
        "        temp_input.extend(yhat[0].tolist())\n",
        "        temp_input=temp_input[1:]\n",
        "        #print(temp_input)\n",
        "        lst_output.extend(yhat.tolist())\n",
        "        i=i+1\n",
        "    else:\n",
        "        x_input = x_input.reshape((1, n_steps,-1))\n",
        "        yhat = model.predict(x_input, verbose=0)\n",
        "        print(yhat[0])\n",
        "        temp_input.extend(yhat[0].tolist())\n",
        "        print(len(temp_input))\n",
        "        lst_output.extend(yhat.tolist())\n",
        "        i=i+1\n",
        "    \n",
        "\n",
        "print(lst_output)"
      ],
      "execution_count": 139,
      "outputs": [
        {
          "output_type": "stream",
          "name": "stdout",
          "text": [
            "[0.92171377]\n",
            "101\n",
            "1 day input [0.78720348 0.79583222 0.81761288 0.81176761 0.8153165  0.82672874\n",
            " 0.81747379 0.83027774 0.84196827 0.84001985 0.83800188 0.83591425\n",
            " 0.84753524 0.85832122 0.86270522 0.8648624  0.88358127 0.89791614\n",
            " 0.9156608  0.90640574 0.91941845 0.91517364 0.92310653 0.94753148\n",
            " 0.94286917 0.92832555 0.90090832 0.92665543 0.92143642 0.93117863\n",
            " 0.94342588 0.94641816 0.93096988 0.91851378 0.92310653 0.92463746\n",
            " 0.92227153 0.93507548 0.9322224  0.93298786 0.92658588 0.92623792\n",
            " 0.92282824 0.92463746 0.94572225 0.94718363 0.96124009 0.95476856\n",
            " 0.9281168  0.93048272 0.9408512  0.95142843 0.95080206 0.94203417\n",
            " 0.93632799 0.94370428 0.97515745 0.9661808  0.97091266 0.97884555\n",
            " 0.98336876 1.         0.98900527 0.98176829 0.94627896 0.95031501\n",
            " 0.94036404 0.94669647 0.94502634 0.92602917 0.90431811 0.9077278\n",
            " 0.92456791 0.93138739 0.93201364 0.92122766 0.89715068 0.90355266\n",
            " 0.8942976  0.90230004 0.8778751  0.89158372 0.89777694 0.90675359\n",
            " 0.90403971 0.90341346 0.89436715 0.890192   0.91002418 0.91753957\n",
            " 0.92943896 0.9448176  0.94829694 0.94982786 0.94433054 0.94398258\n",
            " 0.94871454 0.94544396 0.97133026 0.92171377]\n",
            "1 day output [[0.90840644]]\n",
            "2 day input [0.79583222 0.81761288 0.81176761 0.8153165  0.82672874 0.81747379\n",
            " 0.83027774 0.84196827 0.84001985 0.83800188 0.83591425 0.84753524\n",
            " 0.85832122 0.86270522 0.8648624  0.88358127 0.89791614 0.9156608\n",
            " 0.90640574 0.91941845 0.91517364 0.92310653 0.94753148 0.94286917\n",
            " 0.92832555 0.90090832 0.92665543 0.92143642 0.93117863 0.94342588\n",
            " 0.94641816 0.93096988 0.91851378 0.92310653 0.92463746 0.92227153\n",
            " 0.93507548 0.9322224  0.93298786 0.92658588 0.92623792 0.92282824\n",
            " 0.92463746 0.94572225 0.94718363 0.96124009 0.95476856 0.9281168\n",
            " 0.93048272 0.9408512  0.95142843 0.95080206 0.94203417 0.93632799\n",
            " 0.94370428 0.97515745 0.9661808  0.97091266 0.97884555 0.98336876\n",
            " 1.         0.98900527 0.98176829 0.94627896 0.95031501 0.94036404\n",
            " 0.94669647 0.94502634 0.92602917 0.90431811 0.9077278  0.92456791\n",
            " 0.93138739 0.93201364 0.92122766 0.89715068 0.90355266 0.8942976\n",
            " 0.90230004 0.8778751  0.89158372 0.89777694 0.90675359 0.90403971\n",
            " 0.90341346 0.89436715 0.890192   0.91002418 0.91753957 0.92943896\n",
            " 0.9448176  0.94829694 0.94982786 0.94433054 0.94398258 0.94871454\n",
            " 0.94544396 0.97133026 0.92171377 0.90840644]\n",
            "2 day output [[0.8882585]]\n",
            "3 day input [0.81761288 0.81176761 0.8153165  0.82672874 0.81747379 0.83027774\n",
            " 0.84196827 0.84001985 0.83800188 0.83591425 0.84753524 0.85832122\n",
            " 0.86270522 0.8648624  0.88358127 0.89791614 0.9156608  0.90640574\n",
            " 0.91941845 0.91517364 0.92310653 0.94753148 0.94286917 0.92832555\n",
            " 0.90090832 0.92665543 0.92143642 0.93117863 0.94342588 0.94641816\n",
            " 0.93096988 0.91851378 0.92310653 0.92463746 0.92227153 0.93507548\n",
            " 0.9322224  0.93298786 0.92658588 0.92623792 0.92282824 0.92463746\n",
            " 0.94572225 0.94718363 0.96124009 0.95476856 0.9281168  0.93048272\n",
            " 0.9408512  0.95142843 0.95080206 0.94203417 0.93632799 0.94370428\n",
            " 0.97515745 0.9661808  0.97091266 0.97884555 0.98336876 1.\n",
            " 0.98900527 0.98176829 0.94627896 0.95031501 0.94036404 0.94669647\n",
            " 0.94502634 0.92602917 0.90431811 0.9077278  0.92456791 0.93138739\n",
            " 0.93201364 0.92122766 0.89715068 0.90355266 0.8942976  0.90230004\n",
            " 0.8778751  0.89158372 0.89777694 0.90675359 0.90403971 0.90341346\n",
            " 0.89436715 0.890192   0.91002418 0.91753957 0.92943896 0.9448176\n",
            " 0.94829694 0.94982786 0.94433054 0.94398258 0.94871454 0.94544396\n",
            " 0.97133026 0.92171377 0.90840644 0.88825852]\n",
            "3 day output [[0.8688]]\n",
            "4 day input [0.81176761 0.8153165  0.82672874 0.81747379 0.83027774 0.84196827\n",
            " 0.84001985 0.83800188 0.83591425 0.84753524 0.85832122 0.86270522\n",
            " 0.8648624  0.88358127 0.89791614 0.9156608  0.90640574 0.91941845\n",
            " 0.91517364 0.92310653 0.94753148 0.94286917 0.92832555 0.90090832\n",
            " 0.92665543 0.92143642 0.93117863 0.94342588 0.94641816 0.93096988\n",
            " 0.91851378 0.92310653 0.92463746 0.92227153 0.93507548 0.9322224\n",
            " 0.93298786 0.92658588 0.92623792 0.92282824 0.92463746 0.94572225\n",
            " 0.94718363 0.96124009 0.95476856 0.9281168  0.93048272 0.9408512\n",
            " 0.95142843 0.95080206 0.94203417 0.93632799 0.94370428 0.97515745\n",
            " 0.9661808  0.97091266 0.97884555 0.98336876 1.         0.98900527\n",
            " 0.98176829 0.94627896 0.95031501 0.94036404 0.94669647 0.94502634\n",
            " 0.92602917 0.90431811 0.9077278  0.92456791 0.93138739 0.93201364\n",
            " 0.92122766 0.89715068 0.90355266 0.8942976  0.90230004 0.8778751\n",
            " 0.89158372 0.89777694 0.90675359 0.90403971 0.90341346 0.89436715\n",
            " 0.890192   0.91002418 0.91753957 0.92943896 0.9448176  0.94829694\n",
            " 0.94982786 0.94433054 0.94398258 0.94871454 0.94544396 0.97133026\n",
            " 0.92171377 0.90840644 0.88825852 0.86879998]\n",
            "4 day output [[0.8522218]]\n",
            "5 day input [0.8153165  0.82672874 0.81747379 0.83027774 0.84196827 0.84001985\n",
            " 0.83800188 0.83591425 0.84753524 0.85832122 0.86270522 0.8648624\n",
            " 0.88358127 0.89791614 0.9156608  0.90640574 0.91941845 0.91517364\n",
            " 0.92310653 0.94753148 0.94286917 0.92832555 0.90090832 0.92665543\n",
            " 0.92143642 0.93117863 0.94342588 0.94641816 0.93096988 0.91851378\n",
            " 0.92310653 0.92463746 0.92227153 0.93507548 0.9322224  0.93298786\n",
            " 0.92658588 0.92623792 0.92282824 0.92463746 0.94572225 0.94718363\n",
            " 0.96124009 0.95476856 0.9281168  0.93048272 0.9408512  0.95142843\n",
            " 0.95080206 0.94203417 0.93632799 0.94370428 0.97515745 0.9661808\n",
            " 0.97091266 0.97884555 0.98336876 1.         0.98900527 0.98176829\n",
            " 0.94627896 0.95031501 0.94036404 0.94669647 0.94502634 0.92602917\n",
            " 0.90431811 0.9077278  0.92456791 0.93138739 0.93201364 0.92122766\n",
            " 0.89715068 0.90355266 0.8942976  0.90230004 0.8778751  0.89158372\n",
            " 0.89777694 0.90675359 0.90403971 0.90341346 0.89436715 0.890192\n",
            " 0.91002418 0.91753957 0.92943896 0.9448176  0.94829694 0.94982786\n",
            " 0.94433054 0.94398258 0.94871454 0.94544396 0.97133026 0.92171377\n",
            " 0.90840644 0.88825852 0.86879998 0.85222179]\n",
            "5 day output [[0.83928823]]\n",
            "6 day input [0.82672874 0.81747379 0.83027774 0.84196827 0.84001985 0.83800188\n",
            " 0.83591425 0.84753524 0.85832122 0.86270522 0.8648624  0.88358127\n",
            " 0.89791614 0.9156608  0.90640574 0.91941845 0.91517364 0.92310653\n",
            " 0.94753148 0.94286917 0.92832555 0.90090832 0.92665543 0.92143642\n",
            " 0.93117863 0.94342588 0.94641816 0.93096988 0.91851378 0.92310653\n",
            " 0.92463746 0.92227153 0.93507548 0.9322224  0.93298786 0.92658588\n",
            " 0.92623792 0.92282824 0.92463746 0.94572225 0.94718363 0.96124009\n",
            " 0.95476856 0.9281168  0.93048272 0.9408512  0.95142843 0.95080206\n",
            " 0.94203417 0.93632799 0.94370428 0.97515745 0.9661808  0.97091266\n",
            " 0.97884555 0.98336876 1.         0.98900527 0.98176829 0.94627896\n",
            " 0.95031501 0.94036404 0.94669647 0.94502634 0.92602917 0.90431811\n",
            " 0.9077278  0.92456791 0.93138739 0.93201364 0.92122766 0.89715068\n",
            " 0.90355266 0.8942976  0.90230004 0.8778751  0.89158372 0.89777694\n",
            " 0.90675359 0.90403971 0.90341346 0.89436715 0.890192   0.91002418\n",
            " 0.91753957 0.92943896 0.9448176  0.94829694 0.94982786 0.94433054\n",
            " 0.94398258 0.94871454 0.94544396 0.97133026 0.92171377 0.90840644\n",
            " 0.88825852 0.86879998 0.85222179 0.83928823]\n",
            "6 day output [[0.82999474]]\n",
            "7 day input [0.81747379 0.83027774 0.84196827 0.84001985 0.83800188 0.83591425\n",
            " 0.84753524 0.85832122 0.86270522 0.8648624  0.88358127 0.89791614\n",
            " 0.9156608  0.90640574 0.91941845 0.91517364 0.92310653 0.94753148\n",
            " 0.94286917 0.92832555 0.90090832 0.92665543 0.92143642 0.93117863\n",
            " 0.94342588 0.94641816 0.93096988 0.91851378 0.92310653 0.92463746\n",
            " 0.92227153 0.93507548 0.9322224  0.93298786 0.92658588 0.92623792\n",
            " 0.92282824 0.92463746 0.94572225 0.94718363 0.96124009 0.95476856\n",
            " 0.9281168  0.93048272 0.9408512  0.95142843 0.95080206 0.94203417\n",
            " 0.93632799 0.94370428 0.97515745 0.9661808  0.97091266 0.97884555\n",
            " 0.98336876 1.         0.98900527 0.98176829 0.94627896 0.95031501\n",
            " 0.94036404 0.94669647 0.94502634 0.92602917 0.90431811 0.9077278\n",
            " 0.92456791 0.93138739 0.93201364 0.92122766 0.89715068 0.90355266\n",
            " 0.8942976  0.90230004 0.8778751  0.89158372 0.89777694 0.90675359\n",
            " 0.90403971 0.90341346 0.89436715 0.890192   0.91002418 0.91753957\n",
            " 0.92943896 0.9448176  0.94829694 0.94982786 0.94433054 0.94398258\n",
            " 0.94871454 0.94544396 0.97133026 0.92171377 0.90840644 0.88825852\n",
            " 0.86879998 0.85222179 0.83928823 0.82999474]\n",
            "7 day output [[0.82374954]]\n",
            "8 day input [0.83027774 0.84196827 0.84001985 0.83800188 0.83591425 0.84753524\n",
            " 0.85832122 0.86270522 0.8648624  0.88358127 0.89791614 0.9156608\n",
            " 0.90640574 0.91941845 0.91517364 0.92310653 0.94753148 0.94286917\n",
            " 0.92832555 0.90090832 0.92665543 0.92143642 0.93117863 0.94342588\n",
            " 0.94641816 0.93096988 0.91851378 0.92310653 0.92463746 0.92227153\n",
            " 0.93507548 0.9322224  0.93298786 0.92658588 0.92623792 0.92282824\n",
            " 0.92463746 0.94572225 0.94718363 0.96124009 0.95476856 0.9281168\n",
            " 0.93048272 0.9408512  0.95142843 0.95080206 0.94203417 0.93632799\n",
            " 0.94370428 0.97515745 0.9661808  0.97091266 0.97884555 0.98336876\n",
            " 1.         0.98900527 0.98176829 0.94627896 0.95031501 0.94036404\n",
            " 0.94669647 0.94502634 0.92602917 0.90431811 0.9077278  0.92456791\n",
            " 0.93138739 0.93201364 0.92122766 0.89715068 0.90355266 0.8942976\n",
            " 0.90230004 0.8778751  0.89158372 0.89777694 0.90675359 0.90403971\n",
            " 0.90341346 0.89436715 0.890192   0.91002418 0.91753957 0.92943896\n",
            " 0.9448176  0.94829694 0.94982786 0.94433054 0.94398258 0.94871454\n",
            " 0.94544396 0.97133026 0.92171377 0.90840644 0.88825852 0.86879998\n",
            " 0.85222179 0.83928823 0.82999474 0.82374954]\n",
            "8 day output [[0.8195889]]\n",
            "9 day input [0.84196827 0.84001985 0.83800188 0.83591425 0.84753524 0.85832122\n",
            " 0.86270522 0.8648624  0.88358127 0.89791614 0.9156608  0.90640574\n",
            " 0.91941845 0.91517364 0.92310653 0.94753148 0.94286917 0.92832555\n",
            " 0.90090832 0.92665543 0.92143642 0.93117863 0.94342588 0.94641816\n",
            " 0.93096988 0.91851378 0.92310653 0.92463746 0.92227153 0.93507548\n",
            " 0.9322224  0.93298786 0.92658588 0.92623792 0.92282824 0.92463746\n",
            " 0.94572225 0.94718363 0.96124009 0.95476856 0.9281168  0.93048272\n",
            " 0.9408512  0.95142843 0.95080206 0.94203417 0.93632799 0.94370428\n",
            " 0.97515745 0.9661808  0.97091266 0.97884555 0.98336876 1.\n",
            " 0.98900527 0.98176829 0.94627896 0.95031501 0.94036404 0.94669647\n",
            " 0.94502634 0.92602917 0.90431811 0.9077278  0.92456791 0.93138739\n",
            " 0.93201364 0.92122766 0.89715068 0.90355266 0.8942976  0.90230004\n",
            " 0.8778751  0.89158372 0.89777694 0.90675359 0.90403971 0.90341346\n",
            " 0.89436715 0.890192   0.91002418 0.91753957 0.92943896 0.9448176\n",
            " 0.94829694 0.94982786 0.94433054 0.94398258 0.94871454 0.94544396\n",
            " 0.97133026 0.92171377 0.90840644 0.88825852 0.86879998 0.85222179\n",
            " 0.83928823 0.82999474 0.82374954 0.8195889 ]\n",
            "9 day output [[0.8164168]]\n",
            "10 day input [0.84001985 0.83800188 0.83591425 0.84753524 0.85832122 0.86270522\n",
            " 0.8648624  0.88358127 0.89791614 0.9156608  0.90640574 0.91941845\n",
            " 0.91517364 0.92310653 0.94753148 0.94286917 0.92832555 0.90090832\n",
            " 0.92665543 0.92143642 0.93117863 0.94342588 0.94641816 0.93096988\n",
            " 0.91851378 0.92310653 0.92463746 0.92227153 0.93507548 0.9322224\n",
            " 0.93298786 0.92658588 0.92623792 0.92282824 0.92463746 0.94572225\n",
            " 0.94718363 0.96124009 0.95476856 0.9281168  0.93048272 0.9408512\n",
            " 0.95142843 0.95080206 0.94203417 0.93632799 0.94370428 0.97515745\n",
            " 0.9661808  0.97091266 0.97884555 0.98336876 1.         0.98900527\n",
            " 0.98176829 0.94627896 0.95031501 0.94036404 0.94669647 0.94502634\n",
            " 0.92602917 0.90431811 0.9077278  0.92456791 0.93138739 0.93201364\n",
            " 0.92122766 0.89715068 0.90355266 0.8942976  0.90230004 0.8778751\n",
            " 0.89158372 0.89777694 0.90675359 0.90403971 0.90341346 0.89436715\n",
            " 0.890192   0.91002418 0.91753957 0.92943896 0.9448176  0.94829694\n",
            " 0.94982786 0.94433054 0.94398258 0.94871454 0.94544396 0.97133026\n",
            " 0.92171377 0.90840644 0.88825852 0.86879998 0.85222179 0.83928823\n",
            " 0.82999474 0.82374954 0.8195889  0.8164168 ]\n",
            "10 day output [[0.8132202]]\n",
            "11 day input [0.83800188 0.83591425 0.84753524 0.85832122 0.86270522 0.8648624\n",
            " 0.88358127 0.89791614 0.9156608  0.90640574 0.91941845 0.91517364\n",
            " 0.92310653 0.94753148 0.94286917 0.92832555 0.90090832 0.92665543\n",
            " 0.92143642 0.93117863 0.94342588 0.94641816 0.93096988 0.91851378\n",
            " 0.92310653 0.92463746 0.92227153 0.93507548 0.9322224  0.93298786\n",
            " 0.92658588 0.92623792 0.92282824 0.92463746 0.94572225 0.94718363\n",
            " 0.96124009 0.95476856 0.9281168  0.93048272 0.9408512  0.95142843\n",
            " 0.95080206 0.94203417 0.93632799 0.94370428 0.97515745 0.9661808\n",
            " 0.97091266 0.97884555 0.98336876 1.         0.98900527 0.98176829\n",
            " 0.94627896 0.95031501 0.94036404 0.94669647 0.94502634 0.92602917\n",
            " 0.90431811 0.9077278  0.92456791 0.93138739 0.93201364 0.92122766\n",
            " 0.89715068 0.90355266 0.8942976  0.90230004 0.8778751  0.89158372\n",
            " 0.89777694 0.90675359 0.90403971 0.90341346 0.89436715 0.890192\n",
            " 0.91002418 0.91753957 0.92943896 0.9448176  0.94829694 0.94982786\n",
            " 0.94433054 0.94398258 0.94871454 0.94544396 0.97133026 0.92171377\n",
            " 0.90840644 0.88825852 0.86879998 0.85222179 0.83928823 0.82999474\n",
            " 0.82374954 0.8195889  0.8164168  0.8132202 ]\n",
            "11 day output [[0.80922455]]\n",
            "12 day input [0.83591425 0.84753524 0.85832122 0.86270522 0.8648624  0.88358127\n",
            " 0.89791614 0.9156608  0.90640574 0.91941845 0.91517364 0.92310653\n",
            " 0.94753148 0.94286917 0.92832555 0.90090832 0.92665543 0.92143642\n",
            " 0.93117863 0.94342588 0.94641816 0.93096988 0.91851378 0.92310653\n",
            " 0.92463746 0.92227153 0.93507548 0.9322224  0.93298786 0.92658588\n",
            " 0.92623792 0.92282824 0.92463746 0.94572225 0.94718363 0.96124009\n",
            " 0.95476856 0.9281168  0.93048272 0.9408512  0.95142843 0.95080206\n",
            " 0.94203417 0.93632799 0.94370428 0.97515745 0.9661808  0.97091266\n",
            " 0.97884555 0.98336876 1.         0.98900527 0.98176829 0.94627896\n",
            " 0.95031501 0.94036404 0.94669647 0.94502634 0.92602917 0.90431811\n",
            " 0.9077278  0.92456791 0.93138739 0.93201364 0.92122766 0.89715068\n",
            " 0.90355266 0.8942976  0.90230004 0.8778751  0.89158372 0.89777694\n",
            " 0.90675359 0.90403971 0.90341346 0.89436715 0.890192   0.91002418\n",
            " 0.91753957 0.92943896 0.9448176  0.94829694 0.94982786 0.94433054\n",
            " 0.94398258 0.94871454 0.94544396 0.97133026 0.92171377 0.90840644\n",
            " 0.88825852 0.86879998 0.85222179 0.83928823 0.82999474 0.82374954\n",
            " 0.8195889  0.8164168  0.8132202  0.80922455]\n",
            "12 day output [[0.8039766]]\n",
            "13 day input [0.84753524 0.85832122 0.86270522 0.8648624  0.88358127 0.89791614\n",
            " 0.9156608  0.90640574 0.91941845 0.91517364 0.92310653 0.94753148\n",
            " 0.94286917 0.92832555 0.90090832 0.92665543 0.92143642 0.93117863\n",
            " 0.94342588 0.94641816 0.93096988 0.91851378 0.92310653 0.92463746\n",
            " 0.92227153 0.93507548 0.9322224  0.93298786 0.92658588 0.92623792\n",
            " 0.92282824 0.92463746 0.94572225 0.94718363 0.96124009 0.95476856\n",
            " 0.9281168  0.93048272 0.9408512  0.95142843 0.95080206 0.94203417\n",
            " 0.93632799 0.94370428 0.97515745 0.9661808  0.97091266 0.97884555\n",
            " 0.98336876 1.         0.98900527 0.98176829 0.94627896 0.95031501\n",
            " 0.94036404 0.94669647 0.94502634 0.92602917 0.90431811 0.9077278\n",
            " 0.92456791 0.93138739 0.93201364 0.92122766 0.89715068 0.90355266\n",
            " 0.8942976  0.90230004 0.8778751  0.89158372 0.89777694 0.90675359\n",
            " 0.90403971 0.90341346 0.89436715 0.890192   0.91002418 0.91753957\n",
            " 0.92943896 0.9448176  0.94829694 0.94982786 0.94433054 0.94398258\n",
            " 0.94871454 0.94544396 0.97133026 0.92171377 0.90840644 0.88825852\n",
            " 0.86879998 0.85222179 0.83928823 0.82999474 0.82374954 0.8195889\n",
            " 0.8164168  0.8132202  0.80922455 0.8039766 ]\n",
            "13 day output [[0.79735243]]\n",
            "14 day input [0.85832122 0.86270522 0.8648624  0.88358127 0.89791614 0.9156608\n",
            " 0.90640574 0.91941845 0.91517364 0.92310653 0.94753148 0.94286917\n",
            " 0.92832555 0.90090832 0.92665543 0.92143642 0.93117863 0.94342588\n",
            " 0.94641816 0.93096988 0.91851378 0.92310653 0.92463746 0.92227153\n",
            " 0.93507548 0.9322224  0.93298786 0.92658588 0.92623792 0.92282824\n",
            " 0.92463746 0.94572225 0.94718363 0.96124009 0.95476856 0.9281168\n",
            " 0.93048272 0.9408512  0.95142843 0.95080206 0.94203417 0.93632799\n",
            " 0.94370428 0.97515745 0.9661808  0.97091266 0.97884555 0.98336876\n",
            " 1.         0.98900527 0.98176829 0.94627896 0.95031501 0.94036404\n",
            " 0.94669647 0.94502634 0.92602917 0.90431811 0.9077278  0.92456791\n",
            " 0.93138739 0.93201364 0.92122766 0.89715068 0.90355266 0.8942976\n",
            " 0.90230004 0.8778751  0.89158372 0.89777694 0.90675359 0.90403971\n",
            " 0.90341346 0.89436715 0.890192   0.91002418 0.91753957 0.92943896\n",
            " 0.9448176  0.94829694 0.94982786 0.94433054 0.94398258 0.94871454\n",
            " 0.94544396 0.97133026 0.92171377 0.90840644 0.88825852 0.86879998\n",
            " 0.85222179 0.83928823 0.82999474 0.82374954 0.8195889  0.8164168\n",
            " 0.8132202  0.80922455 0.8039766  0.79735243]\n",
            "14 day output [[0.78950983]]\n",
            "15 day input [0.86270522 0.8648624  0.88358127 0.89791614 0.9156608  0.90640574\n",
            " 0.91941845 0.91517364 0.92310653 0.94753148 0.94286917 0.92832555\n",
            " 0.90090832 0.92665543 0.92143642 0.93117863 0.94342588 0.94641816\n",
            " 0.93096988 0.91851378 0.92310653 0.92463746 0.92227153 0.93507548\n",
            " 0.9322224  0.93298786 0.92658588 0.92623792 0.92282824 0.92463746\n",
            " 0.94572225 0.94718363 0.96124009 0.95476856 0.9281168  0.93048272\n",
            " 0.9408512  0.95142843 0.95080206 0.94203417 0.93632799 0.94370428\n",
            " 0.97515745 0.9661808  0.97091266 0.97884555 0.98336876 1.\n",
            " 0.98900527 0.98176829 0.94627896 0.95031501 0.94036404 0.94669647\n",
            " 0.94502634 0.92602917 0.90431811 0.9077278  0.92456791 0.93138739\n",
            " 0.93201364 0.92122766 0.89715068 0.90355266 0.8942976  0.90230004\n",
            " 0.8778751  0.89158372 0.89777694 0.90675359 0.90403971 0.90341346\n",
            " 0.89436715 0.890192   0.91002418 0.91753957 0.92943896 0.9448176\n",
            " 0.94829694 0.94982786 0.94433054 0.94398258 0.94871454 0.94544396\n",
            " 0.97133026 0.92171377 0.90840644 0.88825852 0.86879998 0.85222179\n",
            " 0.83928823 0.82999474 0.82374954 0.8195889  0.8164168  0.8132202\n",
            " 0.80922455 0.8039766  0.79735243 0.78950983]\n",
            "15 day output [[0.780806]]\n",
            "16 day input [0.8648624  0.88358127 0.89791614 0.9156608  0.90640574 0.91941845\n",
            " 0.91517364 0.92310653 0.94753148 0.94286917 0.92832555 0.90090832\n",
            " 0.92665543 0.92143642 0.93117863 0.94342588 0.94641816 0.93096988\n",
            " 0.91851378 0.92310653 0.92463746 0.92227153 0.93507548 0.9322224\n",
            " 0.93298786 0.92658588 0.92623792 0.92282824 0.92463746 0.94572225\n",
            " 0.94718363 0.96124009 0.95476856 0.9281168  0.93048272 0.9408512\n",
            " 0.95142843 0.95080206 0.94203417 0.93632799 0.94370428 0.97515745\n",
            " 0.9661808  0.97091266 0.97884555 0.98336876 1.         0.98900527\n",
            " 0.98176829 0.94627896 0.95031501 0.94036404 0.94669647 0.94502634\n",
            " 0.92602917 0.90431811 0.9077278  0.92456791 0.93138739 0.93201364\n",
            " 0.92122766 0.89715068 0.90355266 0.8942976  0.90230004 0.8778751\n",
            " 0.89158372 0.89777694 0.90675359 0.90403971 0.90341346 0.89436715\n",
            " 0.890192   0.91002418 0.91753957 0.92943896 0.9448176  0.94829694\n",
            " 0.94982786 0.94433054 0.94398258 0.94871454 0.94544396 0.97133026\n",
            " 0.92171377 0.90840644 0.88825852 0.86879998 0.85222179 0.83928823\n",
            " 0.82999474 0.82374954 0.8195889  0.8164168  0.8132202  0.80922455\n",
            " 0.8039766  0.79735243 0.78950983 0.78080601]\n",
            "16 day output [[0.77169687]]\n",
            "17 day input [0.88358127 0.89791614 0.9156608  0.90640574 0.91941845 0.91517364\n",
            " 0.92310653 0.94753148 0.94286917 0.92832555 0.90090832 0.92665543\n",
            " 0.92143642 0.93117863 0.94342588 0.94641816 0.93096988 0.91851378\n",
            " 0.92310653 0.92463746 0.92227153 0.93507548 0.9322224  0.93298786\n",
            " 0.92658588 0.92623792 0.92282824 0.92463746 0.94572225 0.94718363\n",
            " 0.96124009 0.95476856 0.9281168  0.93048272 0.9408512  0.95142843\n",
            " 0.95080206 0.94203417 0.93632799 0.94370428 0.97515745 0.9661808\n",
            " 0.97091266 0.97884555 0.98336876 1.         0.98900527 0.98176829\n",
            " 0.94627896 0.95031501 0.94036404 0.94669647 0.94502634 0.92602917\n",
            " 0.90431811 0.9077278  0.92456791 0.93138739 0.93201364 0.92122766\n",
            " 0.89715068 0.90355266 0.8942976  0.90230004 0.8778751  0.89158372\n",
            " 0.89777694 0.90675359 0.90403971 0.90341346 0.89436715 0.890192\n",
            " 0.91002418 0.91753957 0.92943896 0.9448176  0.94829694 0.94982786\n",
            " 0.94433054 0.94398258 0.94871454 0.94544396 0.97133026 0.92171377\n",
            " 0.90840644 0.88825852 0.86879998 0.85222179 0.83928823 0.82999474\n",
            " 0.82374954 0.8195889  0.8164168  0.8132202  0.80922455 0.8039766\n",
            " 0.79735243 0.78950983 0.78080601 0.77169687]\n",
            "17 day output [[0.76264215]]\n",
            "18 day input [0.89791614 0.9156608  0.90640574 0.91941845 0.91517364 0.92310653\n",
            " 0.94753148 0.94286917 0.92832555 0.90090832 0.92665543 0.92143642\n",
            " 0.93117863 0.94342588 0.94641816 0.93096988 0.91851378 0.92310653\n",
            " 0.92463746 0.92227153 0.93507548 0.9322224  0.93298786 0.92658588\n",
            " 0.92623792 0.92282824 0.92463746 0.94572225 0.94718363 0.96124009\n",
            " 0.95476856 0.9281168  0.93048272 0.9408512  0.95142843 0.95080206\n",
            " 0.94203417 0.93632799 0.94370428 0.97515745 0.9661808  0.97091266\n",
            " 0.97884555 0.98336876 1.         0.98900527 0.98176829 0.94627896\n",
            " 0.95031501 0.94036404 0.94669647 0.94502634 0.92602917 0.90431811\n",
            " 0.9077278  0.92456791 0.93138739 0.93201364 0.92122766 0.89715068\n",
            " 0.90355266 0.8942976  0.90230004 0.8778751  0.89158372 0.89777694\n",
            " 0.90675359 0.90403971 0.90341346 0.89436715 0.890192   0.91002418\n",
            " 0.91753957 0.92943896 0.9448176  0.94829694 0.94982786 0.94433054\n",
            " 0.94398258 0.94871454 0.94544396 0.97133026 0.92171377 0.90840644\n",
            " 0.88825852 0.86879998 0.85222179 0.83928823 0.82999474 0.82374954\n",
            " 0.8195889  0.8164168  0.8132202  0.80922455 0.8039766  0.79735243\n",
            " 0.78950983 0.78080601 0.77169687 0.76264215]\n",
            "18 day output [[0.75403017]]\n",
            "19 day input [0.9156608  0.90640574 0.91941845 0.91517364 0.92310653 0.94753148\n",
            " 0.94286917 0.92832555 0.90090832 0.92665543 0.92143642 0.93117863\n",
            " 0.94342588 0.94641816 0.93096988 0.91851378 0.92310653 0.92463746\n",
            " 0.92227153 0.93507548 0.9322224  0.93298786 0.92658588 0.92623792\n",
            " 0.92282824 0.92463746 0.94572225 0.94718363 0.96124009 0.95476856\n",
            " 0.9281168  0.93048272 0.9408512  0.95142843 0.95080206 0.94203417\n",
            " 0.93632799 0.94370428 0.97515745 0.9661808  0.97091266 0.97884555\n",
            " 0.98336876 1.         0.98900527 0.98176829 0.94627896 0.95031501\n",
            " 0.94036404 0.94669647 0.94502634 0.92602917 0.90431811 0.9077278\n",
            " 0.92456791 0.93138739 0.93201364 0.92122766 0.89715068 0.90355266\n",
            " 0.8942976  0.90230004 0.8778751  0.89158372 0.89777694 0.90675359\n",
            " 0.90403971 0.90341346 0.89436715 0.890192   0.91002418 0.91753957\n",
            " 0.92943896 0.9448176  0.94829694 0.94982786 0.94433054 0.94398258\n",
            " 0.94871454 0.94544396 0.97133026 0.92171377 0.90840644 0.88825852\n",
            " 0.86879998 0.85222179 0.83928823 0.82999474 0.82374954 0.8195889\n",
            " 0.8164168  0.8132202  0.80922455 0.8039766  0.79735243 0.78950983\n",
            " 0.78080601 0.77169687 0.76264215 0.75403017]\n",
            "19 day output [[0.7461267]]\n",
            "20 day input [0.90640574 0.91941845 0.91517364 0.92310653 0.94753148 0.94286917\n",
            " 0.92832555 0.90090832 0.92665543 0.92143642 0.93117863 0.94342588\n",
            " 0.94641816 0.93096988 0.91851378 0.92310653 0.92463746 0.92227153\n",
            " 0.93507548 0.9322224  0.93298786 0.92658588 0.92623792 0.92282824\n",
            " 0.92463746 0.94572225 0.94718363 0.96124009 0.95476856 0.9281168\n",
            " 0.93048272 0.9408512  0.95142843 0.95080206 0.94203417 0.93632799\n",
            " 0.94370428 0.97515745 0.9661808  0.97091266 0.97884555 0.98336876\n",
            " 1.         0.98900527 0.98176829 0.94627896 0.95031501 0.94036404\n",
            " 0.94669647 0.94502634 0.92602917 0.90431811 0.9077278  0.92456791\n",
            " 0.93138739 0.93201364 0.92122766 0.89715068 0.90355266 0.8942976\n",
            " 0.90230004 0.8778751  0.89158372 0.89777694 0.90675359 0.90403971\n",
            " 0.90341346 0.89436715 0.890192   0.91002418 0.91753957 0.92943896\n",
            " 0.9448176  0.94829694 0.94982786 0.94433054 0.94398258 0.94871454\n",
            " 0.94544396 0.97133026 0.92171377 0.90840644 0.88825852 0.86879998\n",
            " 0.85222179 0.83928823 0.82999474 0.82374954 0.8195889  0.8164168\n",
            " 0.8132202  0.80922455 0.8039766  0.79735243 0.78950983 0.78080601\n",
            " 0.77169687 0.76264215 0.75403017 0.74612671]\n",
            "20 day output [[0.7390555]]\n",
            "21 day input [0.91941845 0.91517364 0.92310653 0.94753148 0.94286917 0.92832555\n",
            " 0.90090832 0.92665543 0.92143642 0.93117863 0.94342588 0.94641816\n",
            " 0.93096988 0.91851378 0.92310653 0.92463746 0.92227153 0.93507548\n",
            " 0.9322224  0.93298786 0.92658588 0.92623792 0.92282824 0.92463746\n",
            " 0.94572225 0.94718363 0.96124009 0.95476856 0.9281168  0.93048272\n",
            " 0.9408512  0.95142843 0.95080206 0.94203417 0.93632799 0.94370428\n",
            " 0.97515745 0.9661808  0.97091266 0.97884555 0.98336876 1.\n",
            " 0.98900527 0.98176829 0.94627896 0.95031501 0.94036404 0.94669647\n",
            " 0.94502634 0.92602917 0.90431811 0.9077278  0.92456791 0.93138739\n",
            " 0.93201364 0.92122766 0.89715068 0.90355266 0.8942976  0.90230004\n",
            " 0.8778751  0.89158372 0.89777694 0.90675359 0.90403971 0.90341346\n",
            " 0.89436715 0.890192   0.91002418 0.91753957 0.92943896 0.9448176\n",
            " 0.94829694 0.94982786 0.94433054 0.94398258 0.94871454 0.94544396\n",
            " 0.97133026 0.92171377 0.90840644 0.88825852 0.86879998 0.85222179\n",
            " 0.83928823 0.82999474 0.82374954 0.8195889  0.8164168  0.8132202\n",
            " 0.80922455 0.8039766  0.79735243 0.78950983 0.78080601 0.77169687\n",
            " 0.76264215 0.75403017 0.74612671 0.73905551]\n",
            "21 day output [[0.7328043]]\n",
            "22 day input [0.91517364 0.92310653 0.94753148 0.94286917 0.92832555 0.90090832\n",
            " 0.92665543 0.92143642 0.93117863 0.94342588 0.94641816 0.93096988\n",
            " 0.91851378 0.92310653 0.92463746 0.92227153 0.93507548 0.9322224\n",
            " 0.93298786 0.92658588 0.92623792 0.92282824 0.92463746 0.94572225\n",
            " 0.94718363 0.96124009 0.95476856 0.9281168  0.93048272 0.9408512\n",
            " 0.95142843 0.95080206 0.94203417 0.93632799 0.94370428 0.97515745\n",
            " 0.9661808  0.97091266 0.97884555 0.98336876 1.         0.98900527\n",
            " 0.98176829 0.94627896 0.95031501 0.94036404 0.94669647 0.94502634\n",
            " 0.92602917 0.90431811 0.9077278  0.92456791 0.93138739 0.93201364\n",
            " 0.92122766 0.89715068 0.90355266 0.8942976  0.90230004 0.8778751\n",
            " 0.89158372 0.89777694 0.90675359 0.90403971 0.90341346 0.89436715\n",
            " 0.890192   0.91002418 0.91753957 0.92943896 0.9448176  0.94829694\n",
            " 0.94982786 0.94433054 0.94398258 0.94871454 0.94544396 0.97133026\n",
            " 0.92171377 0.90840644 0.88825852 0.86879998 0.85222179 0.83928823\n",
            " 0.82999474 0.82374954 0.8195889  0.8164168  0.8132202  0.80922455\n",
            " 0.8039766  0.79735243 0.78950983 0.78080601 0.77169687 0.76264215\n",
            " 0.75403017 0.74612671 0.73905551 0.7328043 ]\n",
            "22 day output [[0.72725254]]\n",
            "23 day input [0.92310653 0.94753148 0.94286917 0.92832555 0.90090832 0.92665543\n",
            " 0.92143642 0.93117863 0.94342588 0.94641816 0.93096988 0.91851378\n",
            " 0.92310653 0.92463746 0.92227153 0.93507548 0.9322224  0.93298786\n",
            " 0.92658588 0.92623792 0.92282824 0.92463746 0.94572225 0.94718363\n",
            " 0.96124009 0.95476856 0.9281168  0.93048272 0.9408512  0.95142843\n",
            " 0.95080206 0.94203417 0.93632799 0.94370428 0.97515745 0.9661808\n",
            " 0.97091266 0.97884555 0.98336876 1.         0.98900527 0.98176829\n",
            " 0.94627896 0.95031501 0.94036404 0.94669647 0.94502634 0.92602917\n",
            " 0.90431811 0.9077278  0.92456791 0.93138739 0.93201364 0.92122766\n",
            " 0.89715068 0.90355266 0.8942976  0.90230004 0.8778751  0.89158372\n",
            " 0.89777694 0.90675359 0.90403971 0.90341346 0.89436715 0.890192\n",
            " 0.91002418 0.91753957 0.92943896 0.9448176  0.94829694 0.94982786\n",
            " 0.94433054 0.94398258 0.94871454 0.94544396 0.97133026 0.92171377\n",
            " 0.90840644 0.88825852 0.86879998 0.85222179 0.83928823 0.82999474\n",
            " 0.82374954 0.8195889  0.8164168  0.8132202  0.80922455 0.8039766\n",
            " 0.79735243 0.78950983 0.78080601 0.77169687 0.76264215 0.75403017\n",
            " 0.74612671 0.73905551 0.7328043  0.72725254]\n",
            "23 day output [[0.7222106]]\n",
            "24 day input [0.94753148 0.94286917 0.92832555 0.90090832 0.92665543 0.92143642\n",
            " 0.93117863 0.94342588 0.94641816 0.93096988 0.91851378 0.92310653\n",
            " 0.92463746 0.92227153 0.93507548 0.9322224  0.93298786 0.92658588\n",
            " 0.92623792 0.92282824 0.92463746 0.94572225 0.94718363 0.96124009\n",
            " 0.95476856 0.9281168  0.93048272 0.9408512  0.95142843 0.95080206\n",
            " 0.94203417 0.93632799 0.94370428 0.97515745 0.9661808  0.97091266\n",
            " 0.97884555 0.98336876 1.         0.98900527 0.98176829 0.94627896\n",
            " 0.95031501 0.94036404 0.94669647 0.94502634 0.92602917 0.90431811\n",
            " 0.9077278  0.92456791 0.93138739 0.93201364 0.92122766 0.89715068\n",
            " 0.90355266 0.8942976  0.90230004 0.8778751  0.89158372 0.89777694\n",
            " 0.90675359 0.90403971 0.90341346 0.89436715 0.890192   0.91002418\n",
            " 0.91753957 0.92943896 0.9448176  0.94829694 0.94982786 0.94433054\n",
            " 0.94398258 0.94871454 0.94544396 0.97133026 0.92171377 0.90840644\n",
            " 0.88825852 0.86879998 0.85222179 0.83928823 0.82999474 0.82374954\n",
            " 0.8195889  0.8164168  0.8132202  0.80922455 0.8039766  0.79735243\n",
            " 0.78950983 0.78080601 0.77169687 0.76264215 0.75403017 0.74612671\n",
            " 0.73905551 0.7328043  0.72725254 0.72221059]\n",
            "24 day output [[0.7174623]]\n",
            "25 day input [0.94286917 0.92832555 0.90090832 0.92665543 0.92143642 0.93117863\n",
            " 0.94342588 0.94641816 0.93096988 0.91851378 0.92310653 0.92463746\n",
            " 0.92227153 0.93507548 0.9322224  0.93298786 0.92658588 0.92623792\n",
            " 0.92282824 0.92463746 0.94572225 0.94718363 0.96124009 0.95476856\n",
            " 0.9281168  0.93048272 0.9408512  0.95142843 0.95080206 0.94203417\n",
            " 0.93632799 0.94370428 0.97515745 0.9661808  0.97091266 0.97884555\n",
            " 0.98336876 1.         0.98900527 0.98176829 0.94627896 0.95031501\n",
            " 0.94036404 0.94669647 0.94502634 0.92602917 0.90431811 0.9077278\n",
            " 0.92456791 0.93138739 0.93201364 0.92122766 0.89715068 0.90355266\n",
            " 0.8942976  0.90230004 0.8778751  0.89158372 0.89777694 0.90675359\n",
            " 0.90403971 0.90341346 0.89436715 0.890192   0.91002418 0.91753957\n",
            " 0.92943896 0.9448176  0.94829694 0.94982786 0.94433054 0.94398258\n",
            " 0.94871454 0.94544396 0.97133026 0.92171377 0.90840644 0.88825852\n",
            " 0.86879998 0.85222179 0.83928823 0.82999474 0.82374954 0.8195889\n",
            " 0.8164168  0.8132202  0.80922455 0.8039766  0.79735243 0.78950983\n",
            " 0.78080601 0.77169687 0.76264215 0.75403017 0.74612671 0.73905551\n",
            " 0.7328043  0.72725254 0.72221059 0.7174623 ]\n",
            "25 day output [[0.7128042]]\n",
            "26 day input [0.92832555 0.90090832 0.92665543 0.92143642 0.93117863 0.94342588\n",
            " 0.94641816 0.93096988 0.91851378 0.92310653 0.92463746 0.92227153\n",
            " 0.93507548 0.9322224  0.93298786 0.92658588 0.92623792 0.92282824\n",
            " 0.92463746 0.94572225 0.94718363 0.96124009 0.95476856 0.9281168\n",
            " 0.93048272 0.9408512  0.95142843 0.95080206 0.94203417 0.93632799\n",
            " 0.94370428 0.97515745 0.9661808  0.97091266 0.97884555 0.98336876\n",
            " 1.         0.98900527 0.98176829 0.94627896 0.95031501 0.94036404\n",
            " 0.94669647 0.94502634 0.92602917 0.90431811 0.9077278  0.92456791\n",
            " 0.93138739 0.93201364 0.92122766 0.89715068 0.90355266 0.8942976\n",
            " 0.90230004 0.8778751  0.89158372 0.89777694 0.90675359 0.90403971\n",
            " 0.90341346 0.89436715 0.890192   0.91002418 0.91753957 0.92943896\n",
            " 0.9448176  0.94829694 0.94982786 0.94433054 0.94398258 0.94871454\n",
            " 0.94544396 0.97133026 0.92171377 0.90840644 0.88825852 0.86879998\n",
            " 0.85222179 0.83928823 0.82999474 0.82374954 0.8195889  0.8164168\n",
            " 0.8132202  0.80922455 0.8039766  0.79735243 0.78950983 0.78080601\n",
            " 0.77169687 0.76264215 0.75403017 0.74612671 0.73905551 0.7328043\n",
            " 0.72725254 0.72221059 0.7174623  0.7128042 ]\n",
            "26 day output [[0.7080745]]\n",
            "27 day input [0.90090832 0.92665543 0.92143642 0.93117863 0.94342588 0.94641816\n",
            " 0.93096988 0.91851378 0.92310653 0.92463746 0.92227153 0.93507548\n",
            " 0.9322224  0.93298786 0.92658588 0.92623792 0.92282824 0.92463746\n",
            " 0.94572225 0.94718363 0.96124009 0.95476856 0.9281168  0.93048272\n",
            " 0.9408512  0.95142843 0.95080206 0.94203417 0.93632799 0.94370428\n",
            " 0.97515745 0.9661808  0.97091266 0.97884555 0.98336876 1.\n",
            " 0.98900527 0.98176829 0.94627896 0.95031501 0.94036404 0.94669647\n",
            " 0.94502634 0.92602917 0.90431811 0.9077278  0.92456791 0.93138739\n",
            " 0.93201364 0.92122766 0.89715068 0.90355266 0.8942976  0.90230004\n",
            " 0.8778751  0.89158372 0.89777694 0.90675359 0.90403971 0.90341346\n",
            " 0.89436715 0.890192   0.91002418 0.91753957 0.92943896 0.9448176\n",
            " 0.94829694 0.94982786 0.94433054 0.94398258 0.94871454 0.94544396\n",
            " 0.97133026 0.92171377 0.90840644 0.88825852 0.86879998 0.85222179\n",
            " 0.83928823 0.82999474 0.82374954 0.8195889  0.8164168  0.8132202\n",
            " 0.80922455 0.8039766  0.79735243 0.78950983 0.78080601 0.77169687\n",
            " 0.76264215 0.75403017 0.74612671 0.73905551 0.7328043  0.72725254\n",
            " 0.72221059 0.7174623  0.7128042  0.70807451]\n",
            "27 day output [[0.70317024]]\n",
            "28 day input [0.92665543 0.92143642 0.93117863 0.94342588 0.94641816 0.93096988\n",
            " 0.91851378 0.92310653 0.92463746 0.92227153 0.93507548 0.9322224\n",
            " 0.93298786 0.92658588 0.92623792 0.92282824 0.92463746 0.94572225\n",
            " 0.94718363 0.96124009 0.95476856 0.9281168  0.93048272 0.9408512\n",
            " 0.95142843 0.95080206 0.94203417 0.93632799 0.94370428 0.97515745\n",
            " 0.9661808  0.97091266 0.97884555 0.98336876 1.         0.98900527\n",
            " 0.98176829 0.94627896 0.95031501 0.94036404 0.94669647 0.94502634\n",
            " 0.92602917 0.90431811 0.9077278  0.92456791 0.93138739 0.93201364\n",
            " 0.92122766 0.89715068 0.90355266 0.8942976  0.90230004 0.8778751\n",
            " 0.89158372 0.89777694 0.90675359 0.90403971 0.90341346 0.89436715\n",
            " 0.890192   0.91002418 0.91753957 0.92943896 0.9448176  0.94829694\n",
            " 0.94982786 0.94433054 0.94398258 0.94871454 0.94544396 0.97133026\n",
            " 0.92171377 0.90840644 0.88825852 0.86879998 0.85222179 0.83928823\n",
            " 0.82999474 0.82374954 0.8195889  0.8164168  0.8132202  0.80922455\n",
            " 0.8039766  0.79735243 0.78950983 0.78080601 0.77169687 0.76264215\n",
            " 0.75403017 0.74612671 0.73905551 0.7328043  0.72725254 0.72221059\n",
            " 0.7174623  0.7128042  0.70807451 0.70317024]\n",
            "28 day output [[0.69805217]]\n",
            "29 day input [0.92143642 0.93117863 0.94342588 0.94641816 0.93096988 0.91851378\n",
            " 0.92310653 0.92463746 0.92227153 0.93507548 0.9322224  0.93298786\n",
            " 0.92658588 0.92623792 0.92282824 0.92463746 0.94572225 0.94718363\n",
            " 0.96124009 0.95476856 0.9281168  0.93048272 0.9408512  0.95142843\n",
            " 0.95080206 0.94203417 0.93632799 0.94370428 0.97515745 0.9661808\n",
            " 0.97091266 0.97884555 0.98336876 1.         0.98900527 0.98176829\n",
            " 0.94627896 0.95031501 0.94036404 0.94669647 0.94502634 0.92602917\n",
            " 0.90431811 0.9077278  0.92456791 0.93138739 0.93201364 0.92122766\n",
            " 0.89715068 0.90355266 0.8942976  0.90230004 0.8778751  0.89158372\n",
            " 0.89777694 0.90675359 0.90403971 0.90341346 0.89436715 0.890192\n",
            " 0.91002418 0.91753957 0.92943896 0.9448176  0.94829694 0.94982786\n",
            " 0.94433054 0.94398258 0.94871454 0.94544396 0.97133026 0.92171377\n",
            " 0.90840644 0.88825852 0.86879998 0.85222179 0.83928823 0.82999474\n",
            " 0.82374954 0.8195889  0.8164168  0.8132202  0.80922455 0.8039766\n",
            " 0.79735243 0.78950983 0.78080601 0.77169687 0.76264215 0.75403017\n",
            " 0.74612671 0.73905551 0.7328043  0.72725254 0.72221059 0.7174623\n",
            " 0.7128042  0.70807451 0.70317024 0.69805217]\n",
            "29 day output [[0.6927384]]\n",
            "[[0.9217137694358826], [0.9084064364433289], [0.8882585167884827], [0.8687999844551086], [0.8522217869758606], [0.8392882347106934], [0.8299947381019592], [0.8237495422363281], [0.8195888996124268], [0.8164168000221252], [0.813220202922821], [0.809224545955658], [0.8039765954017639], [0.7973524332046509], [0.7895098328590393], [0.7808060050010681], [0.7716968655586243], [0.7626421451568604], [0.754030168056488], [0.7461267113685608], [0.7390555143356323], [0.7328042984008789], [0.7272525429725647], [0.7222105860710144], [0.7174623012542725], [0.7128041982650757], [0.7080745100975037], [0.7031702399253845], [0.698052167892456], [0.69273841381073]]\n"
          ]
        }
      ]
    },
    {
      "cell_type": "code",
      "metadata": {
        "id": "VIdhz58G3vH-"
      },
      "source": [
        "day_new=np.arange(1,101)\n",
        "day_pred=np.arange(101,131)"
      ],
      "execution_count": 140,
      "outputs": []
    },
    {
      "cell_type": "code",
      "metadata": {
        "id": "UQ4XhPYm32Ho"
      },
      "source": [
        "import matplotlib.pyplot as plt"
      ],
      "execution_count": 142,
      "outputs": []
    },
    {
      "cell_type": "code",
      "metadata": {
        "colab": {
          "base_uri": "https://localhost:8080/"
        },
        "id": "_SnnVJ9Q34TD",
        "outputId": "61b74cf3-d861-44f9-9308-12b03698e0e8"
      },
      "source": [
        "len(df1)"
      ],
      "execution_count": 143,
      "outputs": [
        {
          "output_type": "execute_result",
          "data": {
            "text/plain": [
              "2516"
            ]
          },
          "metadata": {},
          "execution_count": 143
        }
      ]
    },
    {
      "cell_type": "code",
      "metadata": {
        "colab": {
          "base_uri": "https://localhost:8080/",
          "height": 283
        },
        "id": "QqwrIA2V38Tg",
        "outputId": "94ed4461-bd10-4116-dc8e-5fdcf5ee619d"
      },
      "source": [
        "plt.plot(day_new,scaler.inverse_transform(df1[2416:]))\n",
        "plt.plot(day_pred,scaler.inverse_transform(lst_output))"
      ],
      "execution_count": 145,
      "outputs": [
        {
          "output_type": "execute_result",
          "data": {
            "text/plain": [
              "[<matplotlib.lines.Line2D at 0x7f9709cba0d0>]"
            ]
          },
          "metadata": {},
          "execution_count": 145
        },
        {
          "output_type": "display_data",
          "data": {
            "image/png": "[encoded data removed]",
            "text/plain": [
              "<Figure size 432x288 with 1 Axes>"
            ]
          },
          "metadata": {
            "needs_background": "light"
          }
        }
      ]
    },
    {
      "cell_type": "code",
      "metadata": {
        "colab": {
          "base_uri": "https://localhost:8080/",
          "height": 283
        },
        "id": "Htcd4yh94Oo-",
        "outputId": "5b184493-b9ee-4c22-83fd-14bb5c172dd7"
      },
      "source": [
        "\n",
        "df3=df1.tolist()\n",
        "df3.extend(lst_output)\n",
        "plt.plot(df3[2416:])"
      ],
      "execution_count": 146,
      "outputs": [
        {
          "output_type": "execute_result",
          "data": {
            "text/plain": [
              "[<matplotlib.lines.Line2D at 0x7f970d0fe590>]"
            ]
          },
          "metadata": {},
          "execution_count": 146
        },
        {
          "output_type": "display_data",
          "data": {
            "image/png": "[encoded data removed]",
            "text/plain": [
              "<Figure size 432x288 with 1 Axes>"
            ]
          },
          "metadata": {
            "needs_background": "light"
          }
        }
      ]
    },
    {
      "cell_type": "code",
      "metadata": {
        "id": "q-vVIS0y4f-w"
      },
      "source": [
        "df3=scaler.inverse_transform(df3).tolist()"
      ],
      "execution_count": 147,
      "outputs": []
    },
    {
      "cell_type": "code",
      "metadata": {
        "colab": {
          "base_uri": "https://localhost:8080/",
          "height": 283
        },
        "id": "HuAOhW0g4iD1",
        "outputId": "67b79ad2-5d25-44c4-977d-d3e9dad7b66e"
      },
      "source": [
        "plt.plot(df3)"
      ],
      "execution_count": 148,
      "outputs": [
        {
          "output_type": "execute_result",
          "data": {
            "text/plain": [
              "[<matplotlib.lines.Line2D at 0x7f970c459950>]"
            ]
          },
          "metadata": {},
          "execution_count": 148
        },
        {
          "output_type": "display_data",
          "data": {
            "image/png": "[encoded data removed]",
            "text/plain": [
              "<Figure size 432x288 with 1 Axes>"
            ]
          },
          "metadata": {
            "needs_background": "light"
          }
        }
      ]
    }
  ]
}
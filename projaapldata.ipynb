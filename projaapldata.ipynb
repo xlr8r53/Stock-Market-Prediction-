{
  "nbformat": 4,
  "nbformat_minor": 0,
  "metadata": {
    "colab": {
      "name": "projaapldata.ipynb",
      "provenance": [],
      "collapsed_sections": [],
      "authorship_tag": "ABX9TyPqX+X988W5IgRz35DMamVo",
      "include_colab_link": true
    },
    "kernelspec": {
      "name": "python3",
      "display_name": "Python 3"
    },
    "language_info": {
      "name": "python"
    }
  },
  "cells": [
    {
      "cell_type": "markdown",
      "metadata": {
        "id": "view-in-github",
        "colab_type": "text"
      },
      "source": [
        "<a href=\"https://colab.research.google.com/github/xlr8r53/Stock-Market-Prediction-/blob/main/projaapldata.ipynb\" target=\"_parent\"><img src=\"https://colab.research.google.com/assets/colab-badge.svg\" alt=\"Open In Colab\"/></a>"
      ]
    },
    {
      "cell_type": "code",
      "metadata": {
        "id": "IEgnZ9Nou_wW"
      },
      "source": [
        "import pandas as pd"
      ],
      "execution_count": 219,
      "outputs": []
    },
    {
      "cell_type": "code",
      "metadata": {
        "id": "lvAHIWlBvDAb"
      },
      "source": [
        "df=pd.read_csv('aapldata.csv')"
      ],
      "execution_count": 220,
      "outputs": []
    },
    {
      "cell_type": "code",
      "metadata": {
        "colab": {
          "base_uri": "https://localhost:8080/",
          "height": 423
        },
        "id": "5Sj5DPh7vKbC",
        "outputId": "5a566134-9307-4a34-eb18-525377d6f031"
      },
      "source": [
        "df"
      ],
      "execution_count": 221,
      "outputs": [
        {
          "output_type": "execute_result",
          "data": {
            "text/html": [
              "<div>\n",
              "<style scoped>\n",
              "    .dataframe tbody tr th:only-of-type {\n",
              "        vertical-align: middle;\n",
              "    }\n",
              "\n",
              "    .dataframe tbody tr th {\n",
              "        vertical-align: top;\n",
              "    }\n",
              "\n",
              "    .dataframe thead th {\n",
              "        text-align: right;\n",
              "    }\n",
              "</style>\n",
              "<table border=\"1\" class=\"dataframe\">\n",
              "  <thead>\n",
              "    <tr style=\"text-align: right;\">\n",
              "      <th></th>\n",
              "      <th>Date</th>\n",
              "      <th>Open</th>\n",
              "      <th>High</th>\n",
              "      <th>Low</th>\n",
              "      <th>Close</th>\n",
              "      <th>Adj Close</th>\n",
              "      <th>Volume</th>\n",
              "    </tr>\n",
              "  </thead>\n",
              "  <tbody>\n",
              "    <tr>\n",
              "      <th>0</th>\n",
              "      <td>2001-10-29</td>\n",
              "      <td>0.331607</td>\n",
              "      <td>0.333393</td>\n",
              "      <td>0.314286</td>\n",
              "      <td>0.314821</td>\n",
              "      <td>0.270310</td>\n",
              "      <td>239181600</td>\n",
              "    </tr>\n",
              "    <tr>\n",
              "      <th>1</th>\n",
              "      <td>2001-10-30</td>\n",
              "      <td>0.310357</td>\n",
              "      <td>0.321429</td>\n",
              "      <td>0.304643</td>\n",
              "      <td>0.314286</td>\n",
              "      <td>0.269851</td>\n",
              "      <td>276763200</td>\n",
              "    </tr>\n",
              "    <tr>\n",
              "      <th>2</th>\n",
              "      <td>2001-10-31</td>\n",
              "      <td>0.316607</td>\n",
              "      <td>0.328571</td>\n",
              "      <td>0.311429</td>\n",
              "      <td>0.313571</td>\n",
              "      <td>0.269237</td>\n",
              "      <td>273750400</td>\n",
              "    </tr>\n",
              "    <tr>\n",
              "      <th>3</th>\n",
              "      <td>2001-11-01</td>\n",
              "      <td>0.315179</td>\n",
              "      <td>0.335357</td>\n",
              "      <td>0.308036</td>\n",
              "      <td>0.331964</td>\n",
              "      <td>0.285030</td>\n",
              "      <td>312995200</td>\n",
              "    </tr>\n",
              "    <tr>\n",
              "      <th>4</th>\n",
              "      <td>2001-11-02</td>\n",
              "      <td>0.330714</td>\n",
              "      <td>0.336786</td>\n",
              "      <td>0.324286</td>\n",
              "      <td>0.331607</td>\n",
              "      <td>0.284723</td>\n",
              "      <td>197204000</td>\n",
              "    </tr>\n",
              "    <tr>\n",
              "      <th>...</th>\n",
              "      <td>...</td>\n",
              "      <td>...</td>\n",
              "      <td>...</td>\n",
              "      <td>...</td>\n",
              "      <td>...</td>\n",
              "      <td>...</td>\n",
              "      <td>...</td>\n",
              "    </tr>\n",
              "    <tr>\n",
              "      <th>5030</th>\n",
              "      <td>2021-10-21</td>\n",
              "      <td>148.809998</td>\n",
              "      <td>149.639999</td>\n",
              "      <td>147.869995</td>\n",
              "      <td>149.479996</td>\n",
              "      <td>149.479996</td>\n",
              "      <td>61421000</td>\n",
              "    </tr>\n",
              "    <tr>\n",
              "      <th>5031</th>\n",
              "      <td>2021-10-22</td>\n",
              "      <td>149.690002</td>\n",
              "      <td>150.179993</td>\n",
              "      <td>148.639999</td>\n",
              "      <td>148.690002</td>\n",
              "      <td>148.690002</td>\n",
              "      <td>58839600</td>\n",
              "    </tr>\n",
              "    <tr>\n",
              "      <th>5032</th>\n",
              "      <td>2021-10-25</td>\n",
              "      <td>148.679993</td>\n",
              "      <td>149.369995</td>\n",
              "      <td>147.619995</td>\n",
              "      <td>148.639999</td>\n",
              "      <td>148.639999</td>\n",
              "      <td>50720600</td>\n",
              "    </tr>\n",
              "    <tr>\n",
              "      <th>5033</th>\n",
              "      <td>2021-10-26</td>\n",
              "      <td>149.330002</td>\n",
              "      <td>150.839996</td>\n",
              "      <td>149.009995</td>\n",
              "      <td>149.320007</td>\n",
              "      <td>149.320007</td>\n",
              "      <td>60893400</td>\n",
              "    </tr>\n",
              "    <tr>\n",
              "      <th>5034</th>\n",
              "      <td>2021-10-27</td>\n",
              "      <td>149.360001</td>\n",
              "      <td>149.729996</td>\n",
              "      <td>148.490005</td>\n",
              "      <td>148.850006</td>\n",
              "      <td>148.850006</td>\n",
              "      <td>56094900</td>\n",
              "    </tr>\n",
              "  </tbody>\n",
              "</table>\n",
              "<p>5035 rows × 7 columns</p>\n",
              "</div>"
            ],
            "text/plain": [
              "            Date        Open        High  ...       Close   Adj Close     Volume\n",
              "0     2001-10-29    0.331607    0.333393  ...    0.314821    0.270310  239181600\n",
              "1     2001-10-30    0.310357    0.321429  ...    0.314286    0.269851  276763200\n",
              "2     2001-10-31    0.316607    0.328571  ...    0.313571    0.269237  273750400\n",
              "3     2001-11-01    0.315179    0.335357  ...    0.331964    0.285030  312995200\n",
              "4     2001-11-02    0.330714    0.336786  ...    0.331607    0.284723  197204000\n",
              "...          ...         ...         ...  ...         ...         ...        ...\n",
              "5030  2021-10-21  148.809998  149.639999  ...  149.479996  149.479996   61421000\n",
              "5031  2021-10-22  149.690002  150.179993  ...  148.690002  148.690002   58839600\n",
              "5032  2021-10-25  148.679993  149.369995  ...  148.639999  148.639999   50720600\n",
              "5033  2021-10-26  149.330002  150.839996  ...  149.320007  149.320007   60893400\n",
              "5034  2021-10-27  149.360001  149.729996  ...  148.850006  148.850006   56094900\n",
              "\n",
              "[5035 rows x 7 columns]"
            ]
          },
          "metadata": {},
          "execution_count": 221
        }
      ]
    },
    {
      "cell_type": "code",
      "metadata": {
        "id": "8479r-PdvQFY"
      },
      "source": [
        "df1=df.reset_index()['Close']"
      ],
      "execution_count": 222,
      "outputs": []
    },
    {
      "cell_type": "code",
      "metadata": {
        "colab": {
          "base_uri": "https://localhost:8080/"
        },
        "id": "tuhAxhamvb2i",
        "outputId": "d1045bc2-b103-468f-8478-9e858f42448b"
      },
      "source": [
        "df1"
      ],
      "execution_count": 223,
      "outputs": [
        {
          "output_type": "execute_result",
          "data": {
            "text/plain": [
              "0         0.314821\n",
              "1         0.314286\n",
              "2         0.313571\n",
              "3         0.331964\n",
              "4         0.331607\n",
              "           ...    \n",
              "5030    149.479996\n",
              "5031    148.690002\n",
              "5032    148.639999\n",
              "5033    149.320007\n",
              "5034    148.850006\n",
              "Name: Close, Length: 5035, dtype: float64"
            ]
          },
          "metadata": {},
          "execution_count": 223
        }
      ]
    },
    {
      "cell_type": "code",
      "metadata": {
        "colab": {
          "base_uri": "https://localhost:8080/",
          "height": 283
        },
        "id": "anD0aw_evj-b",
        "outputId": "3ba09130-e818-4199-f702-4f100e668e22"
      },
      "source": [
        "import matplotlib.pyplot as plt\n",
        "plt.plot(df1)"
      ],
      "execution_count": 224,
      "outputs": [
        {
          "output_type": "execute_result",
          "data": {
            "text/plain": [
              "[<matplotlib.lines.Line2D at 0x7f97008dfc10>]"
            ]
          },
          "metadata": {},
          "execution_count": 224
        },
        {
          "output_type": "display_data",
          "data": {
            "image/png": "[encoded data removed]",
            "text/plain": [
              "<Figure size 432x288 with 1 Axes>"
            ]
          },
          "metadata": {
            "needs_background": "light"
          }
        }
      ]
    },
    {
      "cell_type": "code",
      "metadata": {
        "id": "olhC1YkwvvR1"
      },
      "source": [
        "import numpy as np"
      ],
      "execution_count": 225,
      "outputs": []
    },
    {
      "cell_type": "code",
      "metadata": {
        "id": "ZAir6ga0vyXm"
      },
      "source": [
        "from sklearn.preprocessing import MinMaxScaler\n",
        "scaler=MinMaxScaler(feature_range=(0,1))\n",
        "df1=scaler.fit_transform(np.array(df1).reshape(-1,1))"
      ],
      "execution_count": 226,
      "outputs": []
    },
    {
      "cell_type": "code",
      "metadata": {
        "colab": {
          "base_uri": "https://localhost:8080/"
        },
        "id": "wYw3x6Bcv2xi",
        "outputId": "3f1ef3e2-fb0a-41bd-a65c-12172e400a5f"
      },
      "source": [
        "print(df1)"
      ],
      "execution_count": 227,
      "outputs": [
        {
          "output_type": "stream",
          "name": "stdout",
          "text": [
            "[[5.14746294e-04]\n",
            " [5.11326796e-04]\n",
            " [5.06756813e-04]\n",
            " ...\n",
            " [9.48547722e-01]\n",
            " [9.52894051e-01]\n",
            " [9.49890000e-01]]\n"
          ]
        }
      ]
    },
    {
      "cell_type": "code",
      "metadata": {
        "id": "BsePoL6yv69I"
      },
      "source": [
        "##splitting dataset into train and test split\n",
        "training_size=int(len(df1)*0.65)\n",
        "test_size=len(df1)-training_size\n",
        "train_data,test_data=df1[0:training_size,:],df1[training_size:len(df1),:1]"
      ],
      "execution_count": 228,
      "outputs": []
    },
    {
      "cell_type": "code",
      "metadata": {
        "colab": {
          "base_uri": "https://localhost:8080/"
        },
        "id": "X2EINuBawDLR",
        "outputId": "1243d3f6-38b7-4219-c6c2-5b2108ce72cc"
      },
      "source": [
        "training_size,test_size"
      ],
      "execution_count": 229,
      "outputs": [
        {
          "output_type": "execute_result",
          "data": {
            "text/plain": [
              "(3272, 1763)"
            ]
          },
          "metadata": {},
          "execution_count": 229
        }
      ]
    },
    {
      "cell_type": "code",
      "metadata": {
        "colab": {
          "base_uri": "https://localhost:8080/"
        },
        "id": "P6UAxK8MwIVX",
        "outputId": "b5111716-69c7-4929-f98b-c2a39e8f78c3"
      },
      "source": [
        "\n",
        "train_data"
      ],
      "execution_count": 230,
      "outputs": [
        {
          "output_type": "execute_result",
          "data": {
            "text/plain": [
              "array([[0.00051475],\n",
              "       [0.00051133],\n",
              "       [0.00050676],\n",
              "       ...,\n",
              "       [0.16601   ],\n",
              "       [0.16663318],\n",
              "       [0.16645741]])"
            ]
          },
          "metadata": {},
          "execution_count": 230
        }
      ]
    },
    {
      "cell_type": "code",
      "metadata": {
        "id": "xJWfXsZpwJOs"
      },
      "source": [
        "import numpy\n",
        "# convert an array of values into a dataset matrix\n",
        "def create_dataset(dataset, time_step=1):\n",
        "\tdataX, dataY = [], []\n",
        "\tfor i in range(len(dataset)-time_step-1):\n",
        "\t\ta = dataset[i:(i+time_step), 0]   ###i=0, 0,1,2,3-----99   100 \n",
        "\t\tdataX.append(a)\n",
        "\t\tdataY.append(dataset[i + time_step, 0])\n",
        "\treturn numpy.array(dataX), numpy.array(dataY)"
      ],
      "execution_count": 231,
      "outputs": []
    },
    {
      "cell_type": "code",
      "metadata": {
        "id": "j4uybeeNwPT-"
      },
      "source": [
        "# reshape into X=t,t+1,t+2,t+3 and Y=t+4\n",
        "time_step = 100\n",
        "X_train, y_train = create_dataset(train_data, time_step)\n",
        "X_test, ytest = create_dataset(test_data, time_step)"
      ],
      "execution_count": 232,
      "outputs": []
    },
    {
      "cell_type": "code",
      "metadata": {
        "colab": {
          "base_uri": "https://localhost:8080/"
        },
        "id": "zyCuHhTpwTiX",
        "outputId": "c56fee24-d47f-407d-cb98-5e85c366a63c"
      },
      "source": [
        "print(X_train.shape), print(y_train.shape)"
      ],
      "execution_count": 233,
      "outputs": [
        {
          "output_type": "stream",
          "name": "stdout",
          "text": [
            "(3171, 100)\n",
            "(3171,)\n"
          ]
        },
        {
          "output_type": "execute_result",
          "data": {
            "text/plain": [
              "(None, None)"
            ]
          },
          "metadata": {},
          "execution_count": 233
        }
      ]
    },
    {
      "cell_type": "code",
      "metadata": {
        "colab": {
          "base_uri": "https://localhost:8080/"
        },
        "id": "ci-m6gMGwYt9",
        "outputId": "ebcd784c-3f87-4079-d5d8-654abfa2dec5"
      },
      "source": [
        "print(X_test.shape), print(ytest.shape)"
      ],
      "execution_count": 234,
      "outputs": [
        {
          "output_type": "stream",
          "name": "stdout",
          "text": [
            "(1662, 100)\n",
            "(1662,)\n"
          ]
        },
        {
          "output_type": "execute_result",
          "data": {
            "text/plain": [
              "(None, None)"
            ]
          },
          "metadata": {},
          "execution_count": 234
        }
      ]
    },
    {
      "cell_type": "code",
      "metadata": {
        "id": "1kLBw7yEwrIK"
      },
      "source": [
        "# reshape input to be [samples, time steps, features] which is required for LSTM\n",
        "X_train =X_train.reshape(X_train.shape[0],X_train.shape[1] , 1)\n",
        "X_test = X_test.reshape(X_test.shape[0],X_test.shape[1] , 1)"
      ],
      "execution_count": 235,
      "outputs": []
    },
    {
      "cell_type": "code",
      "metadata": {
        "id": "0id_fYnKwwRw"
      },
      "source": [
        "### Create the Stacked LSTM model\n",
        "from tensorflow.keras.models import Sequential\n",
        "from tensorflow.keras.layers import Dense\n",
        "from tensorflow.keras.layers import LSTM"
      ],
      "execution_count": 236,
      "outputs": []
    },
    {
      "cell_type": "code",
      "metadata": {
        "id": "4lLrUG7owzJD"
      },
      "source": [
        "model=Sequential()\n",
        "model.add(LSTM(50,return_sequences=True,input_shape=(100,1)))\n",
        "model.add(LSTM(50,return_sequences=True))\n",
        "model.add(LSTM(50))\n",
        "model.add(Dense(1))\n",
        "model.compile(loss='mean_squared_error',optimizer='adam')"
      ],
      "execution_count": 237,
      "outputs": []
    },
    {
      "cell_type": "code",
      "metadata": {
        "colab": {
          "base_uri": "https://localhost:8080/"
        },
        "id": "5c-1QWKYw22T",
        "outputId": "1c3d6341-14ea-403d-c8d7-205467456631"
      },
      "source": [
        "model.summary()"
      ],
      "execution_count": 238,
      "outputs": [
        {
          "output_type": "stream",
          "name": "stdout",
          "text": [
            "Model: \"sequential_5\"\n",
            "_________________________________________________________________\n",
            "Layer (type)                 Output Shape              Param #   \n",
            "=================================================================\n",
            "lstm_15 (LSTM)               (None, 100, 50)           10400     \n",
            "_________________________________________________________________\n",
            "lstm_16 (LSTM)               (None, 100, 50)           20200     \n",
            "_________________________________________________________________\n",
            "lstm_17 (LSTM)               (None, 50)                20200     \n",
            "_________________________________________________________________\n",
            "dense_5 (Dense)              (None, 1)                 51        \n",
            "=================================================================\n",
            "Total params: 50,851\n",
            "Trainable params: 50,851\n",
            "Non-trainable params: 0\n",
            "_________________________________________________________________\n"
          ]
        }
      ]
    },
    {
      "cell_type": "code",
      "metadata": {
        "colab": {
          "base_uri": "https://localhost:8080/"
        },
        "id": "VUqG-4p1w3ze",
        "outputId": "646abb19-dc2e-4c64-c98e-d2301f517407"
      },
      "source": [
        "model.fit(X_train,y_train,validation_data=(X_test,ytest),epochs=100,batch_size=64,verbose=1)"
      ],
      "execution_count": 239,
      "outputs": [
        {
          "output_type": "stream",
          "name": "stdout",
          "text": [
            "Epoch 1/100\n",
            "50/50 [==============================] - 11s 155ms/step - loss: 3.9385e-04 - val_loss: 0.0028\n",
            "Epoch 2/100\n",
            "50/50 [==============================] - 7s 138ms/step - loss: 1.3781e-05 - val_loss: 0.0024\n",
            "Epoch 3/100\n",
            "50/50 [==============================] - 7s 137ms/step - loss: 1.2700e-05 - val_loss: 0.0025\n",
            "Epoch 4/100\n",
            "50/50 [==============================] - 7s 139ms/step - loss: 1.2022e-05 - val_loss: 0.0031\n",
            "Epoch 5/100\n",
            "50/50 [==============================] - 7s 138ms/step - loss: 1.1469e-05 - val_loss: 0.0024\n",
            "Epoch 6/100\n",
            "50/50 [==============================] - 7s 137ms/step - loss: 1.2770e-05 - val_loss: 0.0038\n",
            "Epoch 7/100\n",
            "50/50 [==============================] - 7s 138ms/step - loss: 1.0923e-05 - val_loss: 0.0029\n",
            "Epoch 8/100\n",
            "50/50 [==============================] - 7s 138ms/step - loss: 1.0800e-05 - val_loss: 0.0026\n",
            "Epoch 9/100\n",
            "50/50 [==============================] - 7s 140ms/step - loss: 1.2163e-05 - val_loss: 0.0027\n",
            "Epoch 10/100\n",
            "50/50 [==============================] - 7s 139ms/step - loss: 1.1387e-05 - val_loss: 0.0026\n",
            "Epoch 11/100\n",
            "50/50 [==============================] - 7s 137ms/step - loss: 1.0357e-05 - val_loss: 0.0024\n",
            "Epoch 12/100\n",
            "50/50 [==============================] - 7s 139ms/step - loss: 1.0296e-05 - val_loss: 0.0029\n",
            "Epoch 13/100\n",
            "50/50 [==============================] - 7s 140ms/step - loss: 1.0456e-05 - val_loss: 0.0012\n",
            "Epoch 14/100\n",
            "50/50 [==============================] - 7s 139ms/step - loss: 1.4018e-05 - val_loss: 0.0021\n",
            "Epoch 15/100\n",
            "50/50 [==============================] - 7s 140ms/step - loss: 8.3696e-06 - val_loss: 0.0018\n",
            "Epoch 16/100\n",
            "50/50 [==============================] - 7s 140ms/step - loss: 1.1754e-05 - val_loss: 0.0018\n",
            "Epoch 17/100\n",
            "50/50 [==============================] - 7s 140ms/step - loss: 9.0006e-06 - val_loss: 0.0016\n",
            "Epoch 18/100\n",
            "50/50 [==============================] - 7s 138ms/step - loss: 9.6333e-06 - val_loss: 0.0014\n",
            "Epoch 19/100\n",
            "50/50 [==============================] - 7s 139ms/step - loss: 8.0567e-06 - val_loss: 0.0011\n",
            "Epoch 20/100\n",
            "50/50 [==============================] - 7s 140ms/step - loss: 8.5943e-06 - val_loss: 0.0020\n",
            "Epoch 21/100\n",
            "50/50 [==============================] - 7s 139ms/step - loss: 7.9308e-06 - val_loss: 0.0018\n",
            "Epoch 22/100\n",
            "50/50 [==============================] - 7s 143ms/step - loss: 7.8347e-06 - val_loss: 0.0024\n",
            "Epoch 23/100\n",
            "50/50 [==============================] - 7s 140ms/step - loss: 9.4936e-06 - val_loss: 9.4289e-04\n",
            "Epoch 24/100\n",
            "50/50 [==============================] - 7s 140ms/step - loss: 7.4563e-06 - val_loss: 0.0015\n",
            "Epoch 25/100\n",
            "50/50 [==============================] - 7s 139ms/step - loss: 1.0225e-05 - val_loss: 0.0019\n",
            "Epoch 26/100\n",
            "50/50 [==============================] - 7s 141ms/step - loss: 7.9238e-06 - val_loss: 0.0013\n",
            "Epoch 27/100\n",
            "50/50 [==============================] - 7s 141ms/step - loss: 9.1776e-06 - val_loss: 0.0014\n",
            "Epoch 28/100\n",
            "50/50 [==============================] - 7s 139ms/step - loss: 8.5799e-06 - val_loss: 0.0013\n",
            "Epoch 29/100\n",
            "50/50 [==============================] - 7s 141ms/step - loss: 8.6657e-06 - val_loss: 0.0013\n",
            "Epoch 30/100\n",
            "50/50 [==============================] - 7s 141ms/step - loss: 7.2878e-06 - val_loss: 9.7015e-04\n",
            "Epoch 31/100\n",
            "50/50 [==============================] - 7s 140ms/step - loss: 6.9867e-06 - val_loss: 0.0011\n",
            "Epoch 32/100\n",
            "50/50 [==============================] - 7s 141ms/step - loss: 7.0658e-06 - val_loss: 7.6218e-04\n",
            "Epoch 33/100\n",
            "50/50 [==============================] - 7s 140ms/step - loss: 7.7239e-06 - val_loss: 0.0011\n",
            "Epoch 34/100\n",
            "50/50 [==============================] - 7s 140ms/step - loss: 7.4911e-06 - val_loss: 0.0015\n",
            "Epoch 35/100\n",
            "50/50 [==============================] - 7s 140ms/step - loss: 7.7019e-06 - val_loss: 0.0018\n",
            "Epoch 36/100\n",
            "50/50 [==============================] - 7s 141ms/step - loss: 6.4289e-06 - val_loss: 8.1155e-04\n",
            "Epoch 37/100\n",
            "50/50 [==============================] - 7s 149ms/step - loss: 7.1383e-06 - val_loss: 7.2154e-04\n",
            "Epoch 38/100\n",
            "50/50 [==============================] - 8s 154ms/step - loss: 7.6860e-06 - val_loss: 7.1206e-04\n",
            "Epoch 39/100\n",
            "50/50 [==============================] - 8s 157ms/step - loss: 5.9151e-06 - val_loss: 7.2127e-04\n",
            "Epoch 40/100\n",
            "50/50 [==============================] - 8s 158ms/step - loss: 5.7776e-06 - val_loss: 0.0014\n",
            "Epoch 41/100\n",
            "50/50 [==============================] - 8s 164ms/step - loss: 6.0787e-06 - val_loss: 0.0012\n",
            "Epoch 42/100\n",
            "50/50 [==============================] - 8s 162ms/step - loss: 6.8773e-06 - val_loss: 9.7440e-04\n",
            "Epoch 43/100\n",
            "50/50 [==============================] - 8s 159ms/step - loss: 6.1176e-06 - val_loss: 4.4701e-04\n",
            "Epoch 44/100\n",
            "50/50 [==============================] - 8s 161ms/step - loss: 6.9502e-06 - val_loss: 7.0714e-04\n",
            "Epoch 45/100\n",
            "50/50 [==============================] - 8s 156ms/step - loss: 5.7869e-06 - val_loss: 0.0010\n",
            "Epoch 46/100\n",
            "50/50 [==============================] - 8s 158ms/step - loss: 5.6487e-06 - val_loss: 7.5579e-04\n",
            "Epoch 47/100\n",
            "50/50 [==============================] - 8s 156ms/step - loss: 5.3161e-06 - val_loss: 5.9608e-04\n",
            "Epoch 48/100\n",
            "50/50 [==============================] - 8s 155ms/step - loss: 6.3057e-06 - val_loss: 0.0013\n",
            "Epoch 49/100\n",
            "50/50 [==============================] - 8s 153ms/step - loss: 5.4065e-06 - val_loss: 9.8358e-04\n",
            "Epoch 50/100\n",
            "50/50 [==============================] - 8s 155ms/step - loss: 5.8603e-06 - val_loss: 0.0010\n",
            "Epoch 51/100\n",
            "50/50 [==============================] - 8s 152ms/step - loss: 4.9492e-06 - val_loss: 5.6777e-04\n",
            "Epoch 52/100\n",
            "50/50 [==============================] - 8s 155ms/step - loss: 4.8312e-06 - val_loss: 5.4785e-04\n",
            "Epoch 53/100\n",
            "50/50 [==============================] - 8s 152ms/step - loss: 5.3672e-06 - val_loss: 8.8228e-04\n",
            "Epoch 54/100\n",
            "50/50 [==============================] - 8s 154ms/step - loss: 5.0218e-06 - val_loss: 5.3836e-04\n",
            "Epoch 55/100\n",
            "50/50 [==============================] - 8s 154ms/step - loss: 5.4436e-06 - val_loss: 7.7769e-04\n",
            "Epoch 56/100\n",
            "50/50 [==============================] - 8s 156ms/step - loss: 4.9014e-06 - val_loss: 7.7207e-04\n",
            "Epoch 57/100\n",
            "50/50 [==============================] - 8s 153ms/step - loss: 4.2562e-06 - val_loss: 3.7043e-04\n",
            "Epoch 58/100\n",
            "50/50 [==============================] - 8s 153ms/step - loss: 5.0940e-06 - val_loss: 4.7449e-04\n",
            "Epoch 59/100\n",
            "50/50 [==============================] - 8s 154ms/step - loss: 4.3564e-06 - val_loss: 5.4612e-04\n",
            "Epoch 60/100\n",
            "50/50 [==============================] - 8s 152ms/step - loss: 4.1707e-06 - val_loss: 6.2427e-04\n",
            "Epoch 61/100\n",
            "50/50 [==============================] - 8s 152ms/step - loss: 4.2095e-06 - val_loss: 5.2803e-04\n",
            "Epoch 62/100\n",
            "50/50 [==============================] - 8s 154ms/step - loss: 4.8369e-06 - val_loss: 6.4671e-04\n",
            "Epoch 63/100\n",
            "50/50 [==============================] - 8s 156ms/step - loss: 5.2810e-06 - val_loss: 4.5973e-04\n",
            "Epoch 64/100\n",
            "50/50 [==============================] - 8s 156ms/step - loss: 6.8791e-06 - val_loss: 3.5214e-04\n",
            "Epoch 65/100\n",
            "50/50 [==============================] - 8s 155ms/step - loss: 4.5846e-06 - val_loss: 4.9501e-04\n",
            "Epoch 66/100\n",
            "50/50 [==============================] - 8s 153ms/step - loss: 4.1427e-06 - val_loss: 5.9308e-04\n",
            "Epoch 67/100\n",
            "50/50 [==============================] - 8s 153ms/step - loss: 4.7331e-06 - val_loss: 5.0140e-04\n",
            "Epoch 68/100\n",
            "50/50 [==============================] - 8s 154ms/step - loss: 4.2479e-06 - val_loss: 5.4657e-04\n",
            "Epoch 69/100\n",
            "50/50 [==============================] - 8s 154ms/step - loss: 4.0983e-06 - val_loss: 7.9913e-04\n",
            "Epoch 70/100\n",
            "50/50 [==============================] - 8s 154ms/step - loss: 4.4704e-06 - val_loss: 5.5814e-04\n",
            "Epoch 71/100\n",
            "50/50 [==============================] - 8s 153ms/step - loss: 3.9470e-06 - val_loss: 4.3800e-04\n",
            "Epoch 72/100\n",
            "50/50 [==============================] - 8s 157ms/step - loss: 4.2933e-06 - val_loss: 2.3941e-04\n",
            "Epoch 73/100\n",
            "50/50 [==============================] - 8s 159ms/step - loss: 4.0083e-06 - val_loss: 4.7452e-04\n",
            "Epoch 74/100\n",
            "50/50 [==============================] - 8s 157ms/step - loss: 3.5322e-06 - val_loss: 0.0010\n",
            "Epoch 75/100\n",
            "50/50 [==============================] - 8s 155ms/step - loss: 3.4474e-06 - val_loss: 6.6934e-04\n",
            "Epoch 76/100\n",
            "50/50 [==============================] - 8s 153ms/step - loss: 3.2358e-06 - val_loss: 7.9685e-04\n",
            "Epoch 77/100\n",
            "50/50 [==============================] - 8s 154ms/step - loss: 3.5366e-06 - val_loss: 7.5789e-04\n",
            "Epoch 78/100\n",
            "50/50 [==============================] - 8s 154ms/step - loss: 3.9611e-06 - val_loss: 5.3379e-04\n",
            "Epoch 79/100\n",
            "50/50 [==============================] - 8s 157ms/step - loss: 3.2198e-06 - val_loss: 3.9586e-04\n",
            "Epoch 80/100\n",
            "50/50 [==============================] - 8s 158ms/step - loss: 3.4143e-06 - val_loss: 3.5882e-04\n",
            "Epoch 81/100\n",
            "50/50 [==============================] - 8s 157ms/step - loss: 4.1840e-06 - val_loss: 3.4632e-04\n",
            "Epoch 82/100\n",
            "50/50 [==============================] - 8s 155ms/step - loss: 3.7236e-06 - val_loss: 0.0010\n",
            "Epoch 83/100\n",
            "50/50 [==============================] - 8s 155ms/step - loss: 3.3238e-06 - val_loss: 6.7591e-04\n",
            "Epoch 84/100\n",
            "50/50 [==============================] - 8s 154ms/step - loss: 2.9563e-06 - val_loss: 6.9567e-04\n",
            "Epoch 85/100\n",
            "50/50 [==============================] - 8s 154ms/step - loss: 3.2415e-06 - val_loss: 7.9518e-04\n",
            "Epoch 86/100\n",
            "50/50 [==============================] - 8s 156ms/step - loss: 2.8706e-06 - val_loss: 3.0013e-04\n",
            "Epoch 87/100\n",
            "50/50 [==============================] - 8s 154ms/step - loss: 3.4227e-06 - val_loss: 4.5930e-04\n",
            "Epoch 88/100\n",
            "50/50 [==============================] - 8s 155ms/step - loss: 3.2327e-06 - val_loss: 4.2462e-04\n",
            "Epoch 89/100\n",
            "50/50 [==============================] - 8s 159ms/step - loss: 3.0081e-06 - val_loss: 5.9010e-04\n",
            "Epoch 90/100\n",
            "50/50 [==============================] - 8s 157ms/step - loss: 2.7127e-06 - val_loss: 2.7161e-04\n",
            "Epoch 91/100\n",
            "50/50 [==============================] - 8s 154ms/step - loss: 3.2970e-06 - val_loss: 4.7442e-04\n",
            "Epoch 92/100\n",
            "50/50 [==============================] - 8s 153ms/step - loss: 2.9456e-06 - val_loss: 3.2386e-04\n",
            "Epoch 93/100\n",
            "50/50 [==============================] - 8s 154ms/step - loss: 3.0214e-06 - val_loss: 3.4006e-04\n",
            "Epoch 94/100\n",
            "50/50 [==============================] - 8s 151ms/step - loss: 2.6710e-06 - val_loss: 4.8137e-04\n",
            "Epoch 95/100\n",
            "50/50 [==============================] - 8s 151ms/step - loss: 4.1716e-06 - val_loss: 8.6548e-04\n",
            "Epoch 96/100\n",
            "50/50 [==============================] - 8s 153ms/step - loss: 3.4055e-06 - val_loss: 6.7202e-04\n",
            "Epoch 97/100\n",
            "50/50 [==============================] - 8s 155ms/step - loss: 2.8328e-06 - val_loss: 8.5925e-04\n",
            "Epoch 98/100\n",
            "50/50 [==============================] - 8s 153ms/step - loss: 3.6746e-06 - val_loss: 5.3444e-04\n",
            "Epoch 99/100\n",
            "50/50 [==============================] - 8s 154ms/step - loss: 2.6949e-06 - val_loss: 2.5730e-04\n",
            "Epoch 100/100\n",
            "50/50 [==============================] - 8s 154ms/step - loss: 2.4073e-06 - val_loss: 5.4372e-04\n"
          ]
        },
        {
          "output_type": "execute_result",
          "data": {
            "text/plain": [
              "<keras.callbacks.History at 0x7f97006abf50>"
            ]
          },
          "metadata": {},
          "execution_count": 239
        }
      ]
    },
    {
      "cell_type": "code",
      "metadata": {
        "id": "ikFms47py4LS"
      },
      "source": [
        "import tensorflow as tf"
      ],
      "execution_count": 240,
      "outputs": []
    },
    {
      "cell_type": "code",
      "metadata": {
        "colab": {
          "base_uri": "https://localhost:8080/",
          "height": 35
        },
        "id": "TzSvnjEe1m4u",
        "outputId": "1df7dab4-4a14-464f-ec1b-6012764f144a"
      },
      "source": [
        "\n",
        "tf.__version__"
      ],
      "execution_count": 241,
      "outputs": [
        {
          "output_type": "execute_result",
          "data": {
            "application/vnd.google.colaboratory.intrinsic+json": {
              "type": "string"
            },
            "text/plain": [
              "'2.6.0'"
            ]
          },
          "metadata": {},
          "execution_count": 241
        }
      ]
    },
    {
      "cell_type": "code",
      "metadata": {
        "id": "wyKUXl9f1sSK"
      },
      "source": [
        "### Lets Do the prediction and check performance metrics\n",
        "train_predict=model.predict(X_train)\n",
        "test_predict=model.predict(X_test)"
      ],
      "execution_count": 242,
      "outputs": []
    },
    {
      "cell_type": "code",
      "metadata": {
        "id": "6lxiHDwq1xI3"
      },
      "source": [
        "##Transformback to original form\n",
        "train_predict=scaler.inverse_transform(train_predict)\n",
        "test_predict=scaler.inverse_transform(test_predict)"
      ],
      "execution_count": 243,
      "outputs": []
    },
    {
      "cell_type": "code",
      "metadata": {
        "colab": {
          "base_uri": "https://localhost:8080/"
        },
        "id": "GvMxkjJ614Xp",
        "outputId": "31e0c12d-9db2-4631-9e5d-46b49322aff4"
      },
      "source": [
        "### Calculate RMSE performance metrics\n",
        "import math\n",
        "from sklearn.metrics import mean_squared_error\n",
        "math.sqrt(mean_squared_error(y_train,train_predict))"
      ],
      "execution_count": 244,
      "outputs": [
        {
          "output_type": "execute_result",
          "data": {
            "text/plain": [
              "10.636370602831782"
            ]
          },
          "metadata": {},
          "execution_count": 244
        }
      ]
    },
    {
      "cell_type": "code",
      "metadata": {
        "colab": {
          "base_uri": "https://localhost:8080/"
        },
        "id": "kpWZsnbV17_f",
        "outputId": "d5bcc78b-147b-4e36-e05d-1b75a7771952"
      },
      "source": [
        "math.sqrt(mean_squared_error(ytest,test_predict))"
      ],
      "execution_count": 245,
      "outputs": [
        {
          "output_type": "execute_result",
          "data": {
            "text/plain": [
              "66.90281176206891"
            ]
          },
          "metadata": {},
          "execution_count": 245
        }
      ]
    },
    {
      "cell_type": "code",
      "metadata": {
        "colab": {
          "base_uri": "https://localhost:8080/",
          "height": 265
        },
        "id": "0_RDFbnO2A2U",
        "outputId": "de432eab-247e-435e-dfba-cc3e2b5d02b4"
      },
      "source": [
        "### Plotting \n",
        "# shift train predictions for plotting\n",
        "look_back=100\n",
        "trainPredictPlot = numpy.empty_like(df1)\n",
        "trainPredictPlot[:, :] = np.nan\n",
        "trainPredictPlot[look_back:len(train_predict)+look_back, :] = train_predict\n",
        "# shift test predictions for plotting\n",
        "testPredictPlot = numpy.empty_like(df1)\n",
        "testPredictPlot[:, :] = numpy.nan\n",
        "testPredictPlot[len(train_predict)+(look_back*2)+1:len(df1)-1, :] = test_predict\n",
        "# plot baseline and predictions\n",
        "plt.plot(scaler.inverse_transform(df1))\n",
        "plt.plot(trainPredictPlot)\n",
        "plt.plot(testPredictPlot)\n",
        "plt.show()"
      ],
      "execution_count": 246,
      "outputs": [
        {
          "output_type": "display_data",
          "data": {
            "image/png": "[encoded data removed]",
            "text/plain": [
              "<Figure size 432x288 with 1 Axes>"
            ]
          },
          "metadata": {
            "needs_background": "light"
          }
        }
      ]
    },
    {
      "cell_type": "code",
      "metadata": {
        "colab": {
          "base_uri": "https://localhost:8080/"
        },
        "id": "F0fTVVTC2Hxk",
        "outputId": "546947f9-3ffd-4aac-b5b4-70b868bfe7a1"
      },
      "source": [
        "len(test_data)"
      ],
      "execution_count": 247,
      "outputs": [
        {
          "output_type": "execute_result",
          "data": {
            "text/plain": [
              "1763"
            ]
          },
          "metadata": {},
          "execution_count": 247
        }
      ]
    },
    {
      "cell_type": "code",
      "metadata": {
        "colab": {
          "base_uri": "https://localhost:8080/"
        },
        "id": "IR-2iKYr2JJC",
        "outputId": "379a24bf-b875-40c6-f742-c8ce6f2338b5"
      },
      "source": [
        "x_input=test_data[1663:].reshape(1,-1)\n",
        "x_input.shape"
      ],
      "execution_count": 248,
      "outputs": [
        {
          "output_type": "execute_result",
          "data": {
            "text/plain": [
              "(1, 100)"
            ]
          },
          "metadata": {},
          "execution_count": 248
        }
      ]
    },
    {
      "cell_type": "code",
      "metadata": {
        "id": "SLv677hT2MCu"
      },
      "source": [
        "temp_input=list(x_input)\n",
        "temp_input=temp_input[0].tolist()"
      ],
      "execution_count": 249,
      "outputs": []
    },
    {
      "cell_type": "code",
      "metadata": {
        "colab": {
          "base_uri": "https://localhost:8080/"
        },
        "id": "YO7sLRpN2POh",
        "outputId": "f8723ca4-8291-4eee-af36-38b33ab475aa"
      },
      "source": [
        "temp_input"
      ],
      "execution_count": 250,
      "outputs": [
        {
          "output_type": "execute_result",
          "data": {
            "text/plain": [
              "[0.8085720051289146,\n",
              " 0.81106471686851,\n",
              " 0.8045453257840705,\n",
              " 0.8124708719494788,\n",
              " 0.8324765200652688,\n",
              " 0.8271076078805584,\n",
              " 0.8303672842480233,\n",
              " 0.8408494771772991,\n",
              " 0.8323487586736685,\n",
              " 0.8441092494185384,\n",
              " 0.8548470673963744,\n",
              " 0.8530574300014708,\n",
              " 0.8512039151065598,\n",
              " 0.8492864204462816,\n",
              " 0.8599603545325248,\n",
              " 0.8698673303824835,\n",
              " 0.8738940608600073,\n",
              " 0.8758754330202931,\n",
              " 0.8930688157152407,\n",
              " 0.9062354615410791,\n",
              " 0.9225340223427824,\n",
              " 0.9140332015737923,\n",
              " 0.9259854398672147,\n",
              " 0.9220865666550656,\n",
              " 0.9293729671084692,\n",
              " 0.9518073983311673,\n",
              " 0.9475250491966686,\n",
              " 0.9341666558222775,\n",
              " 0.9089837983292346,\n",
              " 0.9326326434759341,\n",
              " 0.9278389547621257,\n",
              " 0.9367872312188327,\n",
              " 0.9480363887759781,\n",
              " 0.9507848150463227,\n",
              " 0.9365954900618653,\n",
              " 0.925154501865563,\n",
              " 0.9293729671084692,\n",
              " 0.930779128581023,\n",
              " 0.9286060088721847,\n",
              " 0.9403665060086397,\n",
              " 0.9377459306120846,\n",
              " 0.9384490113483615,\n",
              " 0.9325687595843414,\n",
              " 0.9322491611619993,\n",
              " 0.9291173484514942,\n",
              " 0.930779128581023,\n",
              " 0.9501456182016386,\n",
              " 0.9514878957825997,\n",
              " 0.9643988270776889,\n",
              " 0.9584546978136612,\n",
              " 0.9339749210568952,\n",
              " 0.9361480343741484,\n",
              " 0.9456715279101724,\n",
              " 0.9553867689947488,\n",
              " 0.9548114496500723,\n",
              " 0.9467580909603841,\n",
              " 0.9415169401672738,\n",
              " 0.9482921033067275,\n",
              " 0.9771819969811777,\n",
              " 0.9689368971345221,\n",
              " 0.9732831301606137,\n",
              " 0.9805695306140173,\n",
              " 0.9847241183569159,\n",
              " 1.0,\n",
              " 0.9899012893846589,\n",
              " 0.9832540793843544,\n",
              " 0.950656957780948,\n",
              " 0.9543640898361299,\n",
              " 0.9452240722224555,\n",
              " 0.9510404400948829,\n",
              " 0.9495064213569544,\n",
              " 0.932057426396617,\n",
              " 0.9121157069135141,\n",
              " 0.9152475260156043,\n",
              " 0.9307152446894303,\n",
              " 0.9369789723758001,\n",
              " 0.9375541894551171,\n",
              " 0.9276472136051583,\n",
              " 0.9055323871963874,\n",
              " 0.9114126325688223,\n",
              " 0.9029118117998323,\n",
              " 0.9102620961448286,\n",
              " 0.8878276649221304,\n",
              " 0.900419100060237,\n",
              " 0.9061076042757045,\n",
              " 0.91435270412236,\n",
              " 0.9118599923827647,\n",
              " 0.9112847753034476,\n",
              " 0.902975695691425,\n",
              " 0.899140802244643,\n",
              " 0.91735676183285,\n",
              " 0.9242596799723187,\n",
              " 0.9351893349808965,\n",
              " 0.9493146865915721,\n",
              " 0.9525104790674443,\n",
              " 0.953916634148413,\n",
              " 0.9488673203860446,\n",
              " 0.9485477219637025,\n",
              " 0.9528940508635684,\n",
              " 0.9498899995446636]"
            ]
          },
          "metadata": {},
          "execution_count": 250
        }
      ]
    },
    {
      "cell_type": "code",
      "metadata": {
        "colab": {
          "base_uri": "https://localhost:8080/"
        },
        "id": "XuMNjp0y2TQA",
        "outputId": "30016b4c-dd35-436a-8ab3-b385f6df9869"
      },
      "source": [
        "# demonstrate prediction for next 10 days\n",
        "from numpy import array\n",
        "\n",
        "lst_output=[]\n",
        "n_steps=100\n",
        "i=0\n",
        "while(i<30):\n",
        "    \n",
        "    if(len(temp_input)>100):\n",
        "        #print(temp_input)\n",
        "        x_input=np.array(temp_input[1:])\n",
        "        print(\"{} day input {}\".format(i,x_input))\n",
        "        x_input=x_input.reshape(1,-1)\n",
        "        x_input = x_input.reshape((1, n_steps, 1))\n",
        "        #print(x_input)\n",
        "        yhat = model.predict(x_input, verbose=0)\n",
        "        print(\"{} day output {}\".format(i,yhat))\n",
        "        temp_input.extend(yhat[0].tolist())\n",
        "        temp_input=temp_input[1:]\n",
        "        #print(temp_input)\n",
        "        lst_output.extend(yhat.tolist())\n",
        "        i=i+1\n",
        "    else:\n",
        "        x_input = x_input.reshape((1, n_steps,-1))\n",
        "        yhat = model.predict(x_input, verbose=0)\n",
        "        print(yhat[0])\n",
        "        temp_input.extend(yhat[0].tolist())\n",
        "        print(len(temp_input))\n",
        "        lst_output.extend(yhat.tolist())\n",
        "        i=i+1\n",
        "    \n",
        "\n",
        "print(lst_output)"
      ],
      "execution_count": 251,
      "outputs": [
        {
          "output_type": "stream",
          "name": "stdout",
          "text": [
            "[0.8857312]\n",
            "101\n",
            "1 day input [0.81106472 0.80454533 0.81247087 0.83247652 0.82710761 0.83036728\n",
            " 0.84084948 0.83234876 0.84410925 0.85484707 0.85305743 0.85120392\n",
            " 0.84928642 0.85996035 0.86986733 0.87389406 0.87587543 0.89306882\n",
            " 0.90623546 0.92253402 0.9140332  0.92598544 0.92208657 0.92937297\n",
            " 0.9518074  0.94752505 0.93416666 0.9089838  0.93263264 0.92783895\n",
            " 0.93678723 0.94803639 0.95078482 0.93659549 0.9251545  0.92937297\n",
            " 0.93077913 0.92860601 0.94036651 0.93774593 0.93844901 0.93256876\n",
            " 0.93224916 0.92911735 0.93077913 0.95014562 0.9514879  0.96439883\n",
            " 0.9584547  0.93397492 0.93614803 0.94567153 0.95538677 0.95481145\n",
            " 0.94675809 0.94151694 0.9482921  0.977182   0.9689369  0.97328313\n",
            " 0.98056953 0.98472412 1.         0.98990129 0.98325408 0.95065696\n",
            " 0.95436409 0.94522407 0.95104044 0.94950642 0.93205743 0.91211571\n",
            " 0.91524753 0.93071524 0.93697897 0.93755419 0.92764721 0.90553239\n",
            " 0.91141263 0.90291181 0.9102621  0.88782766 0.9004191  0.9061076\n",
            " 0.9143527  0.91185999 0.91128478 0.9029757  0.8991408  0.91735676\n",
            " 0.92425968 0.93518933 0.94931469 0.95251048 0.95391663 0.94886732\n",
            " 0.94854772 0.95289405 0.94989    0.88573122]\n",
            "1 day output [[0.8635525]]\n",
            "2 day input [0.80454533 0.81247087 0.83247652 0.82710761 0.83036728 0.84084948\n",
            " 0.83234876 0.84410925 0.85484707 0.85305743 0.85120392 0.84928642\n",
            " 0.85996035 0.86986733 0.87389406 0.87587543 0.89306882 0.90623546\n",
            " 0.92253402 0.9140332  0.92598544 0.92208657 0.92937297 0.9518074\n",
            " 0.94752505 0.93416666 0.9089838  0.93263264 0.92783895 0.93678723\n",
            " 0.94803639 0.95078482 0.93659549 0.9251545  0.92937297 0.93077913\n",
            " 0.92860601 0.94036651 0.93774593 0.93844901 0.93256876 0.93224916\n",
            " 0.92911735 0.93077913 0.95014562 0.9514879  0.96439883 0.9584547\n",
            " 0.93397492 0.93614803 0.94567153 0.95538677 0.95481145 0.94675809\n",
            " 0.94151694 0.9482921  0.977182   0.9689369  0.97328313 0.98056953\n",
            " 0.98472412 1.         0.98990129 0.98325408 0.95065696 0.95436409\n",
            " 0.94522407 0.95104044 0.94950642 0.93205743 0.91211571 0.91524753\n",
            " 0.93071524 0.93697897 0.93755419 0.92764721 0.90553239 0.91141263\n",
            " 0.90291181 0.9102621  0.88782766 0.9004191  0.9061076  0.9143527\n",
            " 0.91185999 0.91128478 0.9029757  0.8991408  0.91735676 0.92425968\n",
            " 0.93518933 0.94931469 0.95251048 0.95391663 0.94886732 0.94854772\n",
            " 0.95289405 0.94989    0.88573122 0.86355251]\n",
            "2 day output [[0.8319005]]\n",
            "3 day input [0.81247087 0.83247652 0.82710761 0.83036728 0.84084948 0.83234876\n",
            " 0.84410925 0.85484707 0.85305743 0.85120392 0.84928642 0.85996035\n",
            " 0.86986733 0.87389406 0.87587543 0.89306882 0.90623546 0.92253402\n",
            " 0.9140332  0.92598544 0.92208657 0.92937297 0.9518074  0.94752505\n",
            " 0.93416666 0.9089838  0.93263264 0.92783895 0.93678723 0.94803639\n",
            " 0.95078482 0.93659549 0.9251545  0.92937297 0.93077913 0.92860601\n",
            " 0.94036651 0.93774593 0.93844901 0.93256876 0.93224916 0.92911735\n",
            " 0.93077913 0.95014562 0.9514879  0.96439883 0.9584547  0.93397492\n",
            " 0.93614803 0.94567153 0.95538677 0.95481145 0.94675809 0.94151694\n",
            " 0.9482921  0.977182   0.9689369  0.97328313 0.98056953 0.98472412\n",
            " 1.         0.98990129 0.98325408 0.95065696 0.95436409 0.94522407\n",
            " 0.95104044 0.94950642 0.93205743 0.91211571 0.91524753 0.93071524\n",
            " 0.93697897 0.93755419 0.92764721 0.90553239 0.91141263 0.90291181\n",
            " 0.9102621  0.88782766 0.9004191  0.9061076  0.9143527  0.91185999\n",
            " 0.91128478 0.9029757  0.8991408  0.91735676 0.92425968 0.93518933\n",
            " 0.94931469 0.95251048 0.95391663 0.94886732 0.94854772 0.95289405\n",
            " 0.94989    0.88573122 0.86355251 0.83190048]\n",
            "3 day output [[0.79856086]]\n",
            "4 day input [0.83247652 0.82710761 0.83036728 0.84084948 0.83234876 0.84410925\n",
            " 0.85484707 0.85305743 0.85120392 0.84928642 0.85996035 0.86986733\n",
            " 0.87389406 0.87587543 0.89306882 0.90623546 0.92253402 0.9140332\n",
            " 0.92598544 0.92208657 0.92937297 0.9518074  0.94752505 0.93416666\n",
            " 0.9089838  0.93263264 0.92783895 0.93678723 0.94803639 0.95078482\n",
            " 0.93659549 0.9251545  0.92937297 0.93077913 0.92860601 0.94036651\n",
            " 0.93774593 0.93844901 0.93256876 0.93224916 0.92911735 0.93077913\n",
            " 0.95014562 0.9514879  0.96439883 0.9584547  0.93397492 0.93614803\n",
            " 0.94567153 0.95538677 0.95481145 0.94675809 0.94151694 0.9482921\n",
            " 0.977182   0.9689369  0.97328313 0.98056953 0.98472412 1.\n",
            " 0.98990129 0.98325408 0.95065696 0.95436409 0.94522407 0.95104044\n",
            " 0.94950642 0.93205743 0.91211571 0.91524753 0.93071524 0.93697897\n",
            " 0.93755419 0.92764721 0.90553239 0.91141263 0.90291181 0.9102621\n",
            " 0.88782766 0.9004191  0.9061076  0.9143527  0.91185999 0.91128478\n",
            " 0.9029757  0.8991408  0.91735676 0.92425968 0.93518933 0.94931469\n",
            " 0.95251048 0.95391663 0.94886732 0.94854772 0.95289405 0.94989\n",
            " 0.88573122 0.86355251 0.83190048 0.79856086]\n",
            "4 day output [[0.7666812]]\n",
            "5 day input [0.82710761 0.83036728 0.84084948 0.83234876 0.84410925 0.85484707\n",
            " 0.85305743 0.85120392 0.84928642 0.85996035 0.86986733 0.87389406\n",
            " 0.87587543 0.89306882 0.90623546 0.92253402 0.9140332  0.92598544\n",
            " 0.92208657 0.92937297 0.9518074  0.94752505 0.93416666 0.9089838\n",
            " 0.93263264 0.92783895 0.93678723 0.94803639 0.95078482 0.93659549\n",
            " 0.9251545  0.92937297 0.93077913 0.92860601 0.94036651 0.93774593\n",
            " 0.93844901 0.93256876 0.93224916 0.92911735 0.93077913 0.95014562\n",
            " 0.9514879  0.96439883 0.9584547  0.93397492 0.93614803 0.94567153\n",
            " 0.95538677 0.95481145 0.94675809 0.94151694 0.9482921  0.977182\n",
            " 0.9689369  0.97328313 0.98056953 0.98472412 1.         0.98990129\n",
            " 0.98325408 0.95065696 0.95436409 0.94522407 0.95104044 0.94950642\n",
            " 0.93205743 0.91211571 0.91524753 0.93071524 0.93697897 0.93755419\n",
            " 0.92764721 0.90553239 0.91141263 0.90291181 0.9102621  0.88782766\n",
            " 0.9004191  0.9061076  0.9143527  0.91185999 0.91128478 0.9029757\n",
            " 0.8991408  0.91735676 0.92425968 0.93518933 0.94931469 0.95251048\n",
            " 0.95391663 0.94886732 0.94854772 0.95289405 0.94989    0.88573122\n",
            " 0.86355251 0.83190048 0.79856086 0.76668119]\n",
            "5 day output [[0.737399]]\n",
            "6 day input [0.83036728 0.84084948 0.83234876 0.84410925 0.85484707 0.85305743\n",
            " 0.85120392 0.84928642 0.85996035 0.86986733 0.87389406 0.87587543\n",
            " 0.89306882 0.90623546 0.92253402 0.9140332  0.92598544 0.92208657\n",
            " 0.92937297 0.9518074  0.94752505 0.93416666 0.9089838  0.93263264\n",
            " 0.92783895 0.93678723 0.94803639 0.95078482 0.93659549 0.9251545\n",
            " 0.92937297 0.93077913 0.92860601 0.94036651 0.93774593 0.93844901\n",
            " 0.93256876 0.93224916 0.92911735 0.93077913 0.95014562 0.9514879\n",
            " 0.96439883 0.9584547  0.93397492 0.93614803 0.94567153 0.95538677\n",
            " 0.95481145 0.94675809 0.94151694 0.9482921  0.977182   0.9689369\n",
            " 0.97328313 0.98056953 0.98472412 1.         0.98990129 0.98325408\n",
            " 0.95065696 0.95436409 0.94522407 0.95104044 0.94950642 0.93205743\n",
            " 0.91211571 0.91524753 0.93071524 0.93697897 0.93755419 0.92764721\n",
            " 0.90553239 0.91141263 0.90291181 0.9102621  0.88782766 0.9004191\n",
            " 0.9061076  0.9143527  0.91185999 0.91128478 0.9029757  0.8991408\n",
            " 0.91735676 0.92425968 0.93518933 0.94931469 0.95251048 0.95391663\n",
            " 0.94886732 0.94854772 0.95289405 0.94989    0.88573122 0.86355251\n",
            " 0.83190048 0.79856086 0.76668119 0.73739898]\n",
            "6 day output [[0.711142]]\n",
            "7 day input [0.84084948 0.83234876 0.84410925 0.85484707 0.85305743 0.85120392\n",
            " 0.84928642 0.85996035 0.86986733 0.87389406 0.87587543 0.89306882\n",
            " 0.90623546 0.92253402 0.9140332  0.92598544 0.92208657 0.92937297\n",
            " 0.9518074  0.94752505 0.93416666 0.9089838  0.93263264 0.92783895\n",
            " 0.93678723 0.94803639 0.95078482 0.93659549 0.9251545  0.92937297\n",
            " 0.93077913 0.92860601 0.94036651 0.93774593 0.93844901 0.93256876\n",
            " 0.93224916 0.92911735 0.93077913 0.95014562 0.9514879  0.96439883\n",
            " 0.9584547  0.93397492 0.93614803 0.94567153 0.95538677 0.95481145\n",
            " 0.94675809 0.94151694 0.9482921  0.977182   0.9689369  0.97328313\n",
            " 0.98056953 0.98472412 1.         0.98990129 0.98325408 0.95065696\n",
            " 0.95436409 0.94522407 0.95104044 0.94950642 0.93205743 0.91211571\n",
            " 0.91524753 0.93071524 0.93697897 0.93755419 0.92764721 0.90553239\n",
            " 0.91141263 0.90291181 0.9102621  0.88782766 0.9004191  0.9061076\n",
            " 0.9143527  0.91185999 0.91128478 0.9029757  0.8991408  0.91735676\n",
            " 0.92425968 0.93518933 0.94931469 0.95251048 0.95391663 0.94886732\n",
            " 0.94854772 0.95289405 0.94989    0.88573122 0.86355251 0.83190048\n",
            " 0.79856086 0.76668119 0.73739898 0.711142  ]\n",
            "7 day output [[0.6880067]]\n",
            "8 day input [0.83234876 0.84410925 0.85484707 0.85305743 0.85120392 0.84928642\n",
            " 0.85996035 0.86986733 0.87389406 0.87587543 0.89306882 0.90623546\n",
            " 0.92253402 0.9140332  0.92598544 0.92208657 0.92937297 0.9518074\n",
            " 0.94752505 0.93416666 0.9089838  0.93263264 0.92783895 0.93678723\n",
            " 0.94803639 0.95078482 0.93659549 0.9251545  0.92937297 0.93077913\n",
            " 0.92860601 0.94036651 0.93774593 0.93844901 0.93256876 0.93224916\n",
            " 0.92911735 0.93077913 0.95014562 0.9514879  0.96439883 0.9584547\n",
            " 0.93397492 0.93614803 0.94567153 0.95538677 0.95481145 0.94675809\n",
            " 0.94151694 0.9482921  0.977182   0.9689369  0.97328313 0.98056953\n",
            " 0.98472412 1.         0.98990129 0.98325408 0.95065696 0.95436409\n",
            " 0.94522407 0.95104044 0.94950642 0.93205743 0.91211571 0.91524753\n",
            " 0.93071524 0.93697897 0.93755419 0.92764721 0.90553239 0.91141263\n",
            " 0.90291181 0.9102621  0.88782766 0.9004191  0.9061076  0.9143527\n",
            " 0.91185999 0.91128478 0.9029757  0.8991408  0.91735676 0.92425968\n",
            " 0.93518933 0.94931469 0.95251048 0.95391663 0.94886732 0.94854772\n",
            " 0.95289405 0.94989    0.88573122 0.86355251 0.83190048 0.79856086\n",
            " 0.76668119 0.73739898 0.711142   0.6880067 ]\n",
            "8 day output [[0.66784203]]\n",
            "9 day input [0.84410925 0.85484707 0.85305743 0.85120392 0.84928642 0.85996035\n",
            " 0.86986733 0.87389406 0.87587543 0.89306882 0.90623546 0.92253402\n",
            " 0.9140332  0.92598544 0.92208657 0.92937297 0.9518074  0.94752505\n",
            " 0.93416666 0.9089838  0.93263264 0.92783895 0.93678723 0.94803639\n",
            " 0.95078482 0.93659549 0.9251545  0.92937297 0.93077913 0.92860601\n",
            " 0.94036651 0.93774593 0.93844901 0.93256876 0.93224916 0.92911735\n",
            " 0.93077913 0.95014562 0.9514879  0.96439883 0.9584547  0.93397492\n",
            " 0.93614803 0.94567153 0.95538677 0.95481145 0.94675809 0.94151694\n",
            " 0.9482921  0.977182   0.9689369  0.97328313 0.98056953 0.98472412\n",
            " 1.         0.98990129 0.98325408 0.95065696 0.95436409 0.94522407\n",
            " 0.95104044 0.94950642 0.93205743 0.91211571 0.91524753 0.93071524\n",
            " 0.93697897 0.93755419 0.92764721 0.90553239 0.91141263 0.90291181\n",
            " 0.9102621  0.88782766 0.9004191  0.9061076  0.9143527  0.91185999\n",
            " 0.91128478 0.9029757  0.8991408  0.91735676 0.92425968 0.93518933\n",
            " 0.94931469 0.95251048 0.95391663 0.94886732 0.94854772 0.95289405\n",
            " 0.94989    0.88573122 0.86355251 0.83190048 0.79856086 0.76668119\n",
            " 0.73739898 0.711142   0.6880067  0.66784203]\n",
            "9 day output [[0.65029556]]\n",
            "10 day input [0.85484707 0.85305743 0.85120392 0.84928642 0.85996035 0.86986733\n",
            " 0.87389406 0.87587543 0.89306882 0.90623546 0.92253402 0.9140332\n",
            " 0.92598544 0.92208657 0.92937297 0.9518074  0.94752505 0.93416666\n",
            " 0.9089838  0.93263264 0.92783895 0.93678723 0.94803639 0.95078482\n",
            " 0.93659549 0.9251545  0.92937297 0.93077913 0.92860601 0.94036651\n",
            " 0.93774593 0.93844901 0.93256876 0.93224916 0.92911735 0.93077913\n",
            " 0.95014562 0.9514879  0.96439883 0.9584547  0.93397492 0.93614803\n",
            " 0.94567153 0.95538677 0.95481145 0.94675809 0.94151694 0.9482921\n",
            " 0.977182   0.9689369  0.97328313 0.98056953 0.98472412 1.\n",
            " 0.98990129 0.98325408 0.95065696 0.95436409 0.94522407 0.95104044\n",
            " 0.94950642 0.93205743 0.91211571 0.91524753 0.93071524 0.93697897\n",
            " 0.93755419 0.92764721 0.90553239 0.91141263 0.90291181 0.9102621\n",
            " 0.88782766 0.9004191  0.9061076  0.9143527  0.91185999 0.91128478\n",
            " 0.9029757  0.8991408  0.91735676 0.92425968 0.93518933 0.94931469\n",
            " 0.95251048 0.95391663 0.94886732 0.94854772 0.95289405 0.94989\n",
            " 0.88573122 0.86355251 0.83190048 0.79856086 0.76668119 0.73739898\n",
            " 0.711142   0.6880067  0.66784203 0.65029556]\n",
            "10 day output [[0.634879]]\n",
            "11 day input [0.85305743 0.85120392 0.84928642 0.85996035 0.86986733 0.87389406\n",
            " 0.87587543 0.89306882 0.90623546 0.92253402 0.9140332  0.92598544\n",
            " 0.92208657 0.92937297 0.9518074  0.94752505 0.93416666 0.9089838\n",
            " 0.93263264 0.92783895 0.93678723 0.94803639 0.95078482 0.93659549\n",
            " 0.9251545  0.92937297 0.93077913 0.92860601 0.94036651 0.93774593\n",
            " 0.93844901 0.93256876 0.93224916 0.92911735 0.93077913 0.95014562\n",
            " 0.9514879  0.96439883 0.9584547  0.93397492 0.93614803 0.94567153\n",
            " 0.95538677 0.95481145 0.94675809 0.94151694 0.9482921  0.977182\n",
            " 0.9689369  0.97328313 0.98056953 0.98472412 1.         0.98990129\n",
            " 0.98325408 0.95065696 0.95436409 0.94522407 0.95104044 0.94950642\n",
            " 0.93205743 0.91211571 0.91524753 0.93071524 0.93697897 0.93755419\n",
            " 0.92764721 0.90553239 0.91141263 0.90291181 0.9102621  0.88782766\n",
            " 0.9004191  0.9061076  0.9143527  0.91185999 0.91128478 0.9029757\n",
            " 0.8991408  0.91735676 0.92425968 0.93518933 0.94931469 0.95251048\n",
            " 0.95391663 0.94886732 0.94854772 0.95289405 0.94989    0.88573122\n",
            " 0.86355251 0.83190048 0.79856086 0.76668119 0.73739898 0.711142\n",
            " 0.6880067  0.66784203 0.65029556 0.63487899]\n",
            "11 day output [[0.6210439]]\n",
            "12 day input [0.85120392 0.84928642 0.85996035 0.86986733 0.87389406 0.87587543\n",
            " 0.89306882 0.90623546 0.92253402 0.9140332  0.92598544 0.92208657\n",
            " 0.92937297 0.9518074  0.94752505 0.93416666 0.9089838  0.93263264\n",
            " 0.92783895 0.93678723 0.94803639 0.95078482 0.93659549 0.9251545\n",
            " 0.92937297 0.93077913 0.92860601 0.94036651 0.93774593 0.93844901\n",
            " 0.93256876 0.93224916 0.92911735 0.93077913 0.95014562 0.9514879\n",
            " 0.96439883 0.9584547  0.93397492 0.93614803 0.94567153 0.95538677\n",
            " 0.95481145 0.94675809 0.94151694 0.9482921  0.977182   0.9689369\n",
            " 0.97328313 0.98056953 0.98472412 1.         0.98990129 0.98325408\n",
            " 0.95065696 0.95436409 0.94522407 0.95104044 0.94950642 0.93205743\n",
            " 0.91211571 0.91524753 0.93071524 0.93697897 0.93755419 0.92764721\n",
            " 0.90553239 0.91141263 0.90291181 0.9102621  0.88782766 0.9004191\n",
            " 0.9061076  0.9143527  0.91185999 0.91128478 0.9029757  0.8991408\n",
            " 0.91735676 0.92425968 0.93518933 0.94931469 0.95251048 0.95391663\n",
            " 0.94886732 0.94854772 0.95289405 0.94989    0.88573122 0.86355251\n",
            " 0.83190048 0.79856086 0.76668119 0.73739898 0.711142   0.6880067\n",
            " 0.66784203 0.65029556 0.63487899 0.62104392]\n",
            "12 day output [[0.60825306]]\n",
            "13 day input [0.84928642 0.85996035 0.86986733 0.87389406 0.87587543 0.89306882\n",
            " 0.90623546 0.92253402 0.9140332  0.92598544 0.92208657 0.92937297\n",
            " 0.9518074  0.94752505 0.93416666 0.9089838  0.93263264 0.92783895\n",
            " 0.93678723 0.94803639 0.95078482 0.93659549 0.9251545  0.92937297\n",
            " 0.93077913 0.92860601 0.94036651 0.93774593 0.93844901 0.93256876\n",
            " 0.93224916 0.92911735 0.93077913 0.95014562 0.9514879  0.96439883\n",
            " 0.9584547  0.93397492 0.93614803 0.94567153 0.95538677 0.95481145\n",
            " 0.94675809 0.94151694 0.9482921  0.977182   0.9689369  0.97328313\n",
            " 0.98056953 0.98472412 1.         0.98990129 0.98325408 0.95065696\n",
            " 0.95436409 0.94522407 0.95104044 0.94950642 0.93205743 0.91211571\n",
            " 0.91524753 0.93071524 0.93697897 0.93755419 0.92764721 0.90553239\n",
            " 0.91141263 0.90291181 0.9102621  0.88782766 0.9004191  0.9061076\n",
            " 0.9143527  0.91185999 0.91128478 0.9029757  0.8991408  0.91735676\n",
            " 0.92425968 0.93518933 0.94931469 0.95251048 0.95391663 0.94886732\n",
            " 0.94854772 0.95289405 0.94989    0.88573122 0.86355251 0.83190048\n",
            " 0.79856086 0.76668119 0.73739898 0.711142   0.6880067  0.66784203\n",
            " 0.65029556 0.63487899 0.62104392 0.60825306]\n",
            "13 day output [[0.5960393]]\n",
            "14 day input [0.85996035 0.86986733 0.87389406 0.87587543 0.89306882 0.90623546\n",
            " 0.92253402 0.9140332  0.92598544 0.92208657 0.92937297 0.9518074\n",
            " 0.94752505 0.93416666 0.9089838  0.93263264 0.92783895 0.93678723\n",
            " 0.94803639 0.95078482 0.93659549 0.9251545  0.92937297 0.93077913\n",
            " 0.92860601 0.94036651 0.93774593 0.93844901 0.93256876 0.93224916\n",
            " 0.92911735 0.93077913 0.95014562 0.9514879  0.96439883 0.9584547\n",
            " 0.93397492 0.93614803 0.94567153 0.95538677 0.95481145 0.94675809\n",
            " 0.94151694 0.9482921  0.977182   0.9689369  0.97328313 0.98056953\n",
            " 0.98472412 1.         0.98990129 0.98325408 0.95065696 0.95436409\n",
            " 0.94522407 0.95104044 0.94950642 0.93205743 0.91211571 0.91524753\n",
            " 0.93071524 0.93697897 0.93755419 0.92764721 0.90553239 0.91141263\n",
            " 0.90291181 0.9102621  0.88782766 0.9004191  0.9061076  0.9143527\n",
            " 0.91185999 0.91128478 0.9029757  0.8991408  0.91735676 0.92425968\n",
            " 0.93518933 0.94931469 0.95251048 0.95391663 0.94886732 0.94854772\n",
            " 0.95289405 0.94989    0.88573122 0.86355251 0.83190048 0.79856086\n",
            " 0.76668119 0.73739898 0.711142   0.6880067  0.66784203 0.65029556\n",
            " 0.63487899 0.62104392 0.60825306 0.5960393 ]\n",
            "14 day output [[0.5840402]]\n",
            "15 day input [0.86986733 0.87389406 0.87587543 0.89306882 0.90623546 0.92253402\n",
            " 0.9140332  0.92598544 0.92208657 0.92937297 0.9518074  0.94752505\n",
            " 0.93416666 0.9089838  0.93263264 0.92783895 0.93678723 0.94803639\n",
            " 0.95078482 0.93659549 0.9251545  0.92937297 0.93077913 0.92860601\n",
            " 0.94036651 0.93774593 0.93844901 0.93256876 0.93224916 0.92911735\n",
            " 0.93077913 0.95014562 0.9514879  0.96439883 0.9584547  0.93397492\n",
            " 0.93614803 0.94567153 0.95538677 0.95481145 0.94675809 0.94151694\n",
            " 0.9482921  0.977182   0.9689369  0.97328313 0.98056953 0.98472412\n",
            " 1.         0.98990129 0.98325408 0.95065696 0.95436409 0.94522407\n",
            " 0.95104044 0.94950642 0.93205743 0.91211571 0.91524753 0.93071524\n",
            " 0.93697897 0.93755419 0.92764721 0.90553239 0.91141263 0.90291181\n",
            " 0.9102621  0.88782766 0.9004191  0.9061076  0.9143527  0.91185999\n",
            " 0.91128478 0.9029757  0.8991408  0.91735676 0.92425968 0.93518933\n",
            " 0.94931469 0.95251048 0.95391663 0.94886732 0.94854772 0.95289405\n",
            " 0.94989    0.88573122 0.86355251 0.83190048 0.79856086 0.76668119\n",
            " 0.73739898 0.711142   0.6880067  0.66784203 0.65029556 0.63487899\n",
            " 0.62104392 0.60825306 0.5960393  0.58404022]\n",
            "15 day output [[0.57201475]]\n",
            "16 day input [0.87389406 0.87587543 0.89306882 0.90623546 0.92253402 0.9140332\n",
            " 0.92598544 0.92208657 0.92937297 0.9518074  0.94752505 0.93416666\n",
            " 0.9089838  0.93263264 0.92783895 0.93678723 0.94803639 0.95078482\n",
            " 0.93659549 0.9251545  0.92937297 0.93077913 0.92860601 0.94036651\n",
            " 0.93774593 0.93844901 0.93256876 0.93224916 0.92911735 0.93077913\n",
            " 0.95014562 0.9514879  0.96439883 0.9584547  0.93397492 0.93614803\n",
            " 0.94567153 0.95538677 0.95481145 0.94675809 0.94151694 0.9482921\n",
            " 0.977182   0.9689369  0.97328313 0.98056953 0.98472412 1.\n",
            " 0.98990129 0.98325408 0.95065696 0.95436409 0.94522407 0.95104044\n",
            " 0.94950642 0.93205743 0.91211571 0.91524753 0.93071524 0.93697897\n",
            " 0.93755419 0.92764721 0.90553239 0.91141263 0.90291181 0.9102621\n",
            " 0.88782766 0.9004191  0.9061076  0.9143527  0.91185999 0.91128478\n",
            " 0.9029757  0.8991408  0.91735676 0.92425968 0.93518933 0.94931469\n",
            " 0.95251048 0.95391663 0.94886732 0.94854772 0.95289405 0.94989\n",
            " 0.88573122 0.86355251 0.83190048 0.79856086 0.76668119 0.73739898\n",
            " 0.711142   0.6880067  0.66784203 0.65029556 0.63487899 0.62104392\n",
            " 0.60825306 0.5960393  0.58404022 0.57201475]\n",
            "16 day output [[0.55984044]]\n",
            "17 day input [0.87587543 0.89306882 0.90623546 0.92253402 0.9140332  0.92598544\n",
            " 0.92208657 0.92937297 0.9518074  0.94752505 0.93416666 0.9089838\n",
            " 0.93263264 0.92783895 0.93678723 0.94803639 0.95078482 0.93659549\n",
            " 0.9251545  0.92937297 0.93077913 0.92860601 0.94036651 0.93774593\n",
            " 0.93844901 0.93256876 0.93224916 0.92911735 0.93077913 0.95014562\n",
            " 0.9514879  0.96439883 0.9584547  0.93397492 0.93614803 0.94567153\n",
            " 0.95538677 0.95481145 0.94675809 0.94151694 0.9482921  0.977182\n",
            " 0.9689369  0.97328313 0.98056953 0.98472412 1.         0.98990129\n",
            " 0.98325408 0.95065696 0.95436409 0.94522407 0.95104044 0.94950642\n",
            " 0.93205743 0.91211571 0.91524753 0.93071524 0.93697897 0.93755419\n",
            " 0.92764721 0.90553239 0.91141263 0.90291181 0.9102621  0.88782766\n",
            " 0.9004191  0.9061076  0.9143527  0.91185999 0.91128478 0.9029757\n",
            " 0.8991408  0.91735676 0.92425968 0.93518933 0.94931469 0.95251048\n",
            " 0.95391663 0.94886732 0.94854772 0.95289405 0.94989    0.88573122\n",
            " 0.86355251 0.83190048 0.79856086 0.76668119 0.73739898 0.711142\n",
            " 0.6880067  0.66784203 0.65029556 0.63487899 0.62104392 0.60825306\n",
            " 0.5960393  0.58404022 0.57201475 0.55984044]\n",
            "17 day output [[0.5474968]]\n",
            "18 day input [0.89306882 0.90623546 0.92253402 0.9140332  0.92598544 0.92208657\n",
            " 0.92937297 0.9518074  0.94752505 0.93416666 0.9089838  0.93263264\n",
            " 0.92783895 0.93678723 0.94803639 0.95078482 0.93659549 0.9251545\n",
            " 0.92937297 0.93077913 0.92860601 0.94036651 0.93774593 0.93844901\n",
            " 0.93256876 0.93224916 0.92911735 0.93077913 0.95014562 0.9514879\n",
            " 0.96439883 0.9584547  0.93397492 0.93614803 0.94567153 0.95538677\n",
            " 0.95481145 0.94675809 0.94151694 0.9482921  0.977182   0.9689369\n",
            " 0.97328313 0.98056953 0.98472412 1.         0.98990129 0.98325408\n",
            " 0.95065696 0.95436409 0.94522407 0.95104044 0.94950642 0.93205743\n",
            " 0.91211571 0.91524753 0.93071524 0.93697897 0.93755419 0.92764721\n",
            " 0.90553239 0.91141263 0.90291181 0.9102621  0.88782766 0.9004191\n",
            " 0.9061076  0.9143527  0.91185999 0.91128478 0.9029757  0.8991408\n",
            " 0.91735676 0.92425968 0.93518933 0.94931469 0.95251048 0.95391663\n",
            " 0.94886732 0.94854772 0.95289405 0.94989    0.88573122 0.86355251\n",
            " 0.83190048 0.79856086 0.76668119 0.73739898 0.711142   0.6880067\n",
            " 0.66784203 0.65029556 0.63487899 0.62104392 0.60825306 0.5960393\n",
            " 0.58404022 0.57201475 0.55984044 0.5474968 ]\n",
            "18 day output [[0.53504235]]\n",
            "19 day input [0.90623546 0.92253402 0.9140332  0.92598544 0.92208657 0.92937297\n",
            " 0.9518074  0.94752505 0.93416666 0.9089838  0.93263264 0.92783895\n",
            " 0.93678723 0.94803639 0.95078482 0.93659549 0.9251545  0.92937297\n",
            " 0.93077913 0.92860601 0.94036651 0.93774593 0.93844901 0.93256876\n",
            " 0.93224916 0.92911735 0.93077913 0.95014562 0.9514879  0.96439883\n",
            " 0.9584547  0.93397492 0.93614803 0.94567153 0.95538677 0.95481145\n",
            " 0.94675809 0.94151694 0.9482921  0.977182   0.9689369  0.97328313\n",
            " 0.98056953 0.98472412 1.         0.98990129 0.98325408 0.95065696\n",
            " 0.95436409 0.94522407 0.95104044 0.94950642 0.93205743 0.91211571\n",
            " 0.91524753 0.93071524 0.93697897 0.93755419 0.92764721 0.90553239\n",
            " 0.91141263 0.90291181 0.9102621  0.88782766 0.9004191  0.9061076\n",
            " 0.9143527  0.91185999 0.91128478 0.9029757  0.8991408  0.91735676\n",
            " 0.92425968 0.93518933 0.94931469 0.95251048 0.95391663 0.94886732\n",
            " 0.94854772 0.95289405 0.94989    0.88573122 0.86355251 0.83190048\n",
            " 0.79856086 0.76668119 0.73739898 0.711142   0.6880067  0.66784203\n",
            " 0.65029556 0.63487899 0.62104392 0.60825306 0.5960393  0.58404022\n",
            " 0.57201475 0.55984044 0.5474968  0.53504235]\n",
            "19 day output [[0.52258724]]\n",
            "20 day input [0.92253402 0.9140332  0.92598544 0.92208657 0.92937297 0.9518074\n",
            " 0.94752505 0.93416666 0.9089838  0.93263264 0.92783895 0.93678723\n",
            " 0.94803639 0.95078482 0.93659549 0.9251545  0.92937297 0.93077913\n",
            " 0.92860601 0.94036651 0.93774593 0.93844901 0.93256876 0.93224916\n",
            " 0.92911735 0.93077913 0.95014562 0.9514879  0.96439883 0.9584547\n",
            " 0.93397492 0.93614803 0.94567153 0.95538677 0.95481145 0.94675809\n",
            " 0.94151694 0.9482921  0.977182   0.9689369  0.97328313 0.98056953\n",
            " 0.98472412 1.         0.98990129 0.98325408 0.95065696 0.95436409\n",
            " 0.94522407 0.95104044 0.94950642 0.93205743 0.91211571 0.91524753\n",
            " 0.93071524 0.93697897 0.93755419 0.92764721 0.90553239 0.91141263\n",
            " 0.90291181 0.9102621  0.88782766 0.9004191  0.9061076  0.9143527\n",
            " 0.91185999 0.91128478 0.9029757  0.8991408  0.91735676 0.92425968\n",
            " 0.93518933 0.94931469 0.95251048 0.95391663 0.94886732 0.94854772\n",
            " 0.95289405 0.94989    0.88573122 0.86355251 0.83190048 0.79856086\n",
            " 0.76668119 0.73739898 0.711142   0.6880067  0.66784203 0.65029556\n",
            " 0.63487899 0.62104392 0.60825306 0.5960393  0.58404022 0.57201475\n",
            " 0.55984044 0.5474968  0.53504235 0.52258724]\n",
            "20 day output [[0.51026714]]\n",
            "21 day input [0.9140332  0.92598544 0.92208657 0.92937297 0.9518074  0.94752505\n",
            " 0.93416666 0.9089838  0.93263264 0.92783895 0.93678723 0.94803639\n",
            " 0.95078482 0.93659549 0.9251545  0.92937297 0.93077913 0.92860601\n",
            " 0.94036651 0.93774593 0.93844901 0.93256876 0.93224916 0.92911735\n",
            " 0.93077913 0.95014562 0.9514879  0.96439883 0.9584547  0.93397492\n",
            " 0.93614803 0.94567153 0.95538677 0.95481145 0.94675809 0.94151694\n",
            " 0.9482921  0.977182   0.9689369  0.97328313 0.98056953 0.98472412\n",
            " 1.         0.98990129 0.98325408 0.95065696 0.95436409 0.94522407\n",
            " 0.95104044 0.94950642 0.93205743 0.91211571 0.91524753 0.93071524\n",
            " 0.93697897 0.93755419 0.92764721 0.90553239 0.91141263 0.90291181\n",
            " 0.9102621  0.88782766 0.9004191  0.9061076  0.9143527  0.91185999\n",
            " 0.91128478 0.9029757  0.8991408  0.91735676 0.92425968 0.93518933\n",
            " 0.94931469 0.95251048 0.95391663 0.94886732 0.94854772 0.95289405\n",
            " 0.94989    0.88573122 0.86355251 0.83190048 0.79856086 0.76668119\n",
            " 0.73739898 0.711142   0.6880067  0.66784203 0.65029556 0.63487899\n",
            " 0.62104392 0.60825306 0.5960393  0.58404022 0.57201475 0.55984044\n",
            " 0.5474968  0.53504235 0.52258724 0.51026714]\n",
            "21 day output [[0.4982204]]\n",
            "22 day input [0.92598544 0.92208657 0.92937297 0.9518074  0.94752505 0.93416666\n",
            " 0.9089838  0.93263264 0.92783895 0.93678723 0.94803639 0.95078482\n",
            " 0.93659549 0.9251545  0.92937297 0.93077913 0.92860601 0.94036651\n",
            " 0.93774593 0.93844901 0.93256876 0.93224916 0.92911735 0.93077913\n",
            " 0.95014562 0.9514879  0.96439883 0.9584547  0.93397492 0.93614803\n",
            " 0.94567153 0.95538677 0.95481145 0.94675809 0.94151694 0.9482921\n",
            " 0.977182   0.9689369  0.97328313 0.98056953 0.98472412 1.\n",
            " 0.98990129 0.98325408 0.95065696 0.95436409 0.94522407 0.95104044\n",
            " 0.94950642 0.93205743 0.91211571 0.91524753 0.93071524 0.93697897\n",
            " 0.93755419 0.92764721 0.90553239 0.91141263 0.90291181 0.9102621\n",
            " 0.88782766 0.9004191  0.9061076  0.9143527  0.91185999 0.91128478\n",
            " 0.9029757  0.8991408  0.91735676 0.92425968 0.93518933 0.94931469\n",
            " 0.95251048 0.95391663 0.94886732 0.94854772 0.95289405 0.94989\n",
            " 0.88573122 0.86355251 0.83190048 0.79856086 0.76668119 0.73739898\n",
            " 0.711142   0.6880067  0.66784203 0.65029556 0.63487899 0.62104392\n",
            " 0.60825306 0.5960393  0.58404022 0.57201475 0.55984044 0.5474968\n",
            " 0.53504235 0.52258724 0.51026714 0.49822041]\n",
            "22 day output [[0.48657]]\n",
            "23 day input [0.92208657 0.92937297 0.9518074  0.94752505 0.93416666 0.9089838\n",
            " 0.93263264 0.92783895 0.93678723 0.94803639 0.95078482 0.93659549\n",
            " 0.9251545  0.92937297 0.93077913 0.92860601 0.94036651 0.93774593\n",
            " 0.93844901 0.93256876 0.93224916 0.92911735 0.93077913 0.95014562\n",
            " 0.9514879  0.96439883 0.9584547  0.93397492 0.93614803 0.94567153\n",
            " 0.95538677 0.95481145 0.94675809 0.94151694 0.9482921  0.977182\n",
            " 0.9689369  0.97328313 0.98056953 0.98472412 1.         0.98990129\n",
            " 0.98325408 0.95065696 0.95436409 0.94522407 0.95104044 0.94950642\n",
            " 0.93205743 0.91211571 0.91524753 0.93071524 0.93697897 0.93755419\n",
            " 0.92764721 0.90553239 0.91141263 0.90291181 0.9102621  0.88782766\n",
            " 0.9004191  0.9061076  0.9143527  0.91185999 0.91128478 0.9029757\n",
            " 0.8991408  0.91735676 0.92425968 0.93518933 0.94931469 0.95251048\n",
            " 0.95391663 0.94886732 0.94854772 0.95289405 0.94989    0.88573122\n",
            " 0.86355251 0.83190048 0.79856086 0.76668119 0.73739898 0.711142\n",
            " 0.6880067  0.66784203 0.65029556 0.63487899 0.62104392 0.60825306\n",
            " 0.5960393  0.58404022 0.57201475 0.55984044 0.5474968  0.53504235\n",
            " 0.52258724 0.51026714 0.49822041 0.48657   ]\n",
            "23 day output [[0.4754119]]\n",
            "24 day input [0.92937297 0.9518074  0.94752505 0.93416666 0.9089838  0.93263264\n",
            " 0.92783895 0.93678723 0.94803639 0.95078482 0.93659549 0.9251545\n",
            " 0.92937297 0.93077913 0.92860601 0.94036651 0.93774593 0.93844901\n",
            " 0.93256876 0.93224916 0.92911735 0.93077913 0.95014562 0.9514879\n",
            " 0.96439883 0.9584547  0.93397492 0.93614803 0.94567153 0.95538677\n",
            " 0.95481145 0.94675809 0.94151694 0.9482921  0.977182   0.9689369\n",
            " 0.97328313 0.98056953 0.98472412 1.         0.98990129 0.98325408\n",
            " 0.95065696 0.95436409 0.94522407 0.95104044 0.94950642 0.93205743\n",
            " 0.91211571 0.91524753 0.93071524 0.93697897 0.93755419 0.92764721\n",
            " 0.90553239 0.91141263 0.90291181 0.9102621  0.88782766 0.9004191\n",
            " 0.9061076  0.9143527  0.91185999 0.91128478 0.9029757  0.8991408\n",
            " 0.91735676 0.92425968 0.93518933 0.94931469 0.95251048 0.95391663\n",
            " 0.94886732 0.94854772 0.95289405 0.94989    0.88573122 0.86355251\n",
            " 0.83190048 0.79856086 0.76668119 0.73739898 0.711142   0.6880067\n",
            " 0.66784203 0.65029556 0.63487899 0.62104392 0.60825306 0.5960393\n",
            " 0.58404022 0.57201475 0.55984044 0.5474968  0.53504235 0.52258724\n",
            " 0.51026714 0.49822041 0.48657    0.47541189]\n",
            "24 day output [[0.46480817]]\n",
            "25 day input [0.9518074  0.94752505 0.93416666 0.9089838  0.93263264 0.92783895\n",
            " 0.93678723 0.94803639 0.95078482 0.93659549 0.9251545  0.92937297\n",
            " 0.93077913 0.92860601 0.94036651 0.93774593 0.93844901 0.93256876\n",
            " 0.93224916 0.92911735 0.93077913 0.95014562 0.9514879  0.96439883\n",
            " 0.9584547  0.93397492 0.93614803 0.94567153 0.95538677 0.95481145\n",
            " 0.94675809 0.94151694 0.9482921  0.977182   0.9689369  0.97328313\n",
            " 0.98056953 0.98472412 1.         0.98990129 0.98325408 0.95065696\n",
            " 0.95436409 0.94522407 0.95104044 0.94950642 0.93205743 0.91211571\n",
            " 0.91524753 0.93071524 0.93697897 0.93755419 0.92764721 0.90553239\n",
            " 0.91141263 0.90291181 0.9102621  0.88782766 0.9004191  0.9061076\n",
            " 0.9143527  0.91185999 0.91128478 0.9029757  0.8991408  0.91735676\n",
            " 0.92425968 0.93518933 0.94931469 0.95251048 0.95391663 0.94886732\n",
            " 0.94854772 0.95289405 0.94989    0.88573122 0.86355251 0.83190048\n",
            " 0.79856086 0.76668119 0.73739898 0.711142   0.6880067  0.66784203\n",
            " 0.65029556 0.63487899 0.62104392 0.60825306 0.5960393  0.58404022\n",
            " 0.57201475 0.55984044 0.5474968  0.53504235 0.52258724 0.51026714\n",
            " 0.49822041 0.48657    0.47541189 0.46480817]\n",
            "25 day output [[0.45478582]]\n",
            "26 day input [0.94752505 0.93416666 0.9089838  0.93263264 0.92783895 0.93678723\n",
            " 0.94803639 0.95078482 0.93659549 0.9251545  0.92937297 0.93077913\n",
            " 0.92860601 0.94036651 0.93774593 0.93844901 0.93256876 0.93224916\n",
            " 0.92911735 0.93077913 0.95014562 0.9514879  0.96439883 0.9584547\n",
            " 0.93397492 0.93614803 0.94567153 0.95538677 0.95481145 0.94675809\n",
            " 0.94151694 0.9482921  0.977182   0.9689369  0.97328313 0.98056953\n",
            " 0.98472412 1.         0.98990129 0.98325408 0.95065696 0.95436409\n",
            " 0.94522407 0.95104044 0.94950642 0.93205743 0.91211571 0.91524753\n",
            " 0.93071524 0.93697897 0.93755419 0.92764721 0.90553239 0.91141263\n",
            " 0.90291181 0.9102621  0.88782766 0.9004191  0.9061076  0.9143527\n",
            " 0.91185999 0.91128478 0.9029757  0.8991408  0.91735676 0.92425968\n",
            " 0.93518933 0.94931469 0.95251048 0.95391663 0.94886732 0.94854772\n",
            " 0.95289405 0.94989    0.88573122 0.86355251 0.83190048 0.79856086\n",
            " 0.76668119 0.73739898 0.711142   0.6880067  0.66784203 0.65029556\n",
            " 0.63487899 0.62104392 0.60825306 0.5960393  0.58404022 0.57201475\n",
            " 0.55984044 0.5474968  0.53504235 0.52258724 0.51026714 0.49822041\n",
            " 0.48657    0.47541189 0.46480817 0.45478582]\n",
            "26 day output [[0.44533998]]\n",
            "27 day input [0.93416666 0.9089838  0.93263264 0.92783895 0.93678723 0.94803639\n",
            " 0.95078482 0.93659549 0.9251545  0.92937297 0.93077913 0.92860601\n",
            " 0.94036651 0.93774593 0.93844901 0.93256876 0.93224916 0.92911735\n",
            " 0.93077913 0.95014562 0.9514879  0.96439883 0.9584547  0.93397492\n",
            " 0.93614803 0.94567153 0.95538677 0.95481145 0.94675809 0.94151694\n",
            " 0.9482921  0.977182   0.9689369  0.97328313 0.98056953 0.98472412\n",
            " 1.         0.98990129 0.98325408 0.95065696 0.95436409 0.94522407\n",
            " 0.95104044 0.94950642 0.93205743 0.91211571 0.91524753 0.93071524\n",
            " 0.93697897 0.93755419 0.92764721 0.90553239 0.91141263 0.90291181\n",
            " 0.9102621  0.88782766 0.9004191  0.9061076  0.9143527  0.91185999\n",
            " 0.91128478 0.9029757  0.8991408  0.91735676 0.92425968 0.93518933\n",
            " 0.94931469 0.95251048 0.95391663 0.94886732 0.94854772 0.95289405\n",
            " 0.94989    0.88573122 0.86355251 0.83190048 0.79856086 0.76668119\n",
            " 0.73739898 0.711142   0.6880067  0.66784203 0.65029556 0.63487899\n",
            " 0.62104392 0.60825306 0.5960393  0.58404022 0.57201475 0.55984044\n",
            " 0.5474968  0.53504235 0.52258724 0.51026714 0.49822041 0.48657\n",
            " 0.47541189 0.46480817 0.45478582 0.44533998]\n",
            "27 day output [[0.4364398]]\n",
            "28 day input [0.9089838  0.93263264 0.92783895 0.93678723 0.94803639 0.95078482\n",
            " 0.93659549 0.9251545  0.92937297 0.93077913 0.92860601 0.94036651\n",
            " 0.93774593 0.93844901 0.93256876 0.93224916 0.92911735 0.93077913\n",
            " 0.95014562 0.9514879  0.96439883 0.9584547  0.93397492 0.93614803\n",
            " 0.94567153 0.95538677 0.95481145 0.94675809 0.94151694 0.9482921\n",
            " 0.977182   0.9689369  0.97328313 0.98056953 0.98472412 1.\n",
            " 0.98990129 0.98325408 0.95065696 0.95436409 0.94522407 0.95104044\n",
            " 0.94950642 0.93205743 0.91211571 0.91524753 0.93071524 0.93697897\n",
            " 0.93755419 0.92764721 0.90553239 0.91141263 0.90291181 0.9102621\n",
            " 0.88782766 0.9004191  0.9061076  0.9143527  0.91185999 0.91128478\n",
            " 0.9029757  0.8991408  0.91735676 0.92425968 0.93518933 0.94931469\n",
            " 0.95251048 0.95391663 0.94886732 0.94854772 0.95289405 0.94989\n",
            " 0.88573122 0.86355251 0.83190048 0.79856086 0.76668119 0.73739898\n",
            " 0.711142   0.6880067  0.66784203 0.65029556 0.63487899 0.62104392\n",
            " 0.60825306 0.5960393  0.58404022 0.57201475 0.55984044 0.5474968\n",
            " 0.53504235 0.52258724 0.51026714 0.49822041 0.48657    0.47541189\n",
            " 0.46480817 0.45478582 0.44533998 0.43643981]\n",
            "28 day output [[0.428036]]\n",
            "29 day input [0.93263264 0.92783895 0.93678723 0.94803639 0.95078482 0.93659549\n",
            " 0.9251545  0.92937297 0.93077913 0.92860601 0.94036651 0.93774593\n",
            " 0.93844901 0.93256876 0.93224916 0.92911735 0.93077913 0.95014562\n",
            " 0.9514879  0.96439883 0.9584547  0.93397492 0.93614803 0.94567153\n",
            " 0.95538677 0.95481145 0.94675809 0.94151694 0.9482921  0.977182\n",
            " 0.9689369  0.97328313 0.98056953 0.98472412 1.         0.98990129\n",
            " 0.98325408 0.95065696 0.95436409 0.94522407 0.95104044 0.94950642\n",
            " 0.93205743 0.91211571 0.91524753 0.93071524 0.93697897 0.93755419\n",
            " 0.92764721 0.90553239 0.91141263 0.90291181 0.9102621  0.88782766\n",
            " 0.9004191  0.9061076  0.9143527  0.91185999 0.91128478 0.9029757\n",
            " 0.8991408  0.91735676 0.92425968 0.93518933 0.94931469 0.95251048\n",
            " 0.95391663 0.94886732 0.94854772 0.95289405 0.94989    0.88573122\n",
            " 0.86355251 0.83190048 0.79856086 0.76668119 0.73739898 0.711142\n",
            " 0.6880067  0.66784203 0.65029556 0.63487899 0.62104392 0.60825306\n",
            " 0.5960393  0.58404022 0.57201475 0.55984044 0.5474968  0.53504235\n",
            " 0.52258724 0.51026714 0.49822041 0.48657    0.47541189 0.46480817\n",
            " 0.45478582 0.44533998 0.43643981 0.428036  ]\n",
            "29 day output [[0.4200694]]\n",
            "[[0.8857312202453613], [0.8635525107383728], [0.8319004774093628], [0.7985608577728271], [0.7666811943054199], [0.7373989820480347], [0.7111420035362244], [0.6880066990852356], [0.6678420305252075], [0.6502955555915833], [0.6348789930343628], [0.6210439205169678], [0.6082530617713928], [0.5960392951965332], [0.5840402245521545], [0.5720147490501404], [0.5598404407501221], [0.5474967956542969], [0.5350423455238342], [0.522587239742279], [0.5102671384811401], [0.49822041392326355], [0.48657000064849854], [0.47541189193725586], [0.4648081660270691], [0.4547858238220215], [0.44533997774124146], [0.4364398121833801], [0.42803600430488586], [0.4200693964958191]]\n"
          ]
        }
      ]
    },
    {
      "cell_type": "code",
      "metadata": {
        "id": "VIdhz58G3vH-"
      },
      "source": [
        "day_new=np.arange(1,101)\n",
        "day_pred=np.arange(101,131)"
      ],
      "execution_count": 270,
      "outputs": []
    },
    {
      "cell_type": "code",
      "metadata": {
        "id": "UQ4XhPYm32Ho"
      },
      "source": [
        "import matplotlib.pyplot as plt"
      ],
      "execution_count": 272,
      "outputs": []
    },
    {
      "cell_type": "code",
      "metadata": {
        "colab": {
          "base_uri": "https://localhost:8080/"
        },
        "id": "_SnnVJ9Q34TD",
        "outputId": "0fbd8545-8170-4a8f-9d59-eee6738ff25b"
      },
      "source": [
        "len(df1)"
      ],
      "execution_count": 273,
      "outputs": [
        {
          "output_type": "execute_result",
          "data": {
            "text/plain": [
              "5035"
            ]
          },
          "metadata": {},
          "execution_count": 273
        }
      ]
    },
    {
      "cell_type": "code",
      "metadata": {
        "colab": {
          "base_uri": "https://localhost:8080/",
          "height": 285
        },
        "id": "QqwrIA2V38Tg",
        "outputId": "b84bcf76-68a3-4515-a3ff-01be07bfe008"
      },
      "source": [
        "plt.plot(day_new,scaler.inverse_transform(df1[4935:]))\n",
        "plt.plot(day_pred,scaler.inverse_transform(lst_output))"
      ],
      "execution_count": 274,
      "outputs": [
        {
          "output_type": "execute_result",
          "data": {
            "text/plain": [
              "[<matplotlib.lines.Line2D at 0x7f9706439e50>]"
            ]
          },
          "metadata": {},
          "execution_count": 274
        },
        {
          "output_type": "display_data",
          "data": {
            "image/png": "[encoded data removed]",
            "text/plain": [
              "<Figure size 432x288 with 1 Axes>"
            ]
          },
          "metadata": {
            "needs_background": "light"
          }
        }
      ]
    },
    {
      "cell_type": "code",
      "metadata": {
        "colab": {
          "base_uri": "https://localhost:8080/",
          "height": 283
        },
        "id": "Htcd4yh94Oo-",
        "outputId": "f9005691-3973-4124-de4f-855366caba26"
      },
      "source": [
        "\n",
        "df3=df1.tolist()\n",
        "df3.extend(lst_output)\n",
        "plt.plot(df3[1000:])"
      ],
      "execution_count": 278,
      "outputs": [
        {
          "output_type": "execute_result",
          "data": {
            "text/plain": [
              "[<matplotlib.lines.Line2D at 0x7f9706228e50>]"
            ]
          },
          "metadata": {},
          "execution_count": 278
        },
        {
          "output_type": "display_data",
          "data": {
            "image/png": "[encoded data removed]",
            "text/plain": [
              "<Figure size 432x288 with 1 Axes>"
            ]
          },
          "metadata": {
            "needs_background": "light"
          }
        }
      ]
    },
    {
      "cell_type": "code",
      "metadata": {
        "id": "q-vVIS0y4f-w"
      },
      "source": [
        "df3=scaler.inverse_transform(df3).tolist()"
      ],
      "execution_count": 279,
      "outputs": []
    },
    {
      "cell_type": "code",
      "metadata": {
        "colab": {
          "base_uri": "https://localhost:8080/",
          "height": 283
        },
        "id": "HuAOhW0g4iD1",
        "outputId": "8302e526-ad1d-4aba-825f-1992ea83c889"
      },
      "source": [
        "plt.plot(df3)"
      ],
      "execution_count": 280,
      "outputs": [
        {
          "output_type": "execute_result",
          "data": {
            "text/plain": [
              "[<matplotlib.lines.Line2D at 0x7f97063b9250>]"
            ]
          },
          "metadata": {},
          "execution_count": 280
        },
        {
          "output_type": "display_data",
          "data": {
            "image/png": "[encoded data removed]",
            "text/plain": [
              "<Figure size 432x288 with 1 Axes>"
            ]
          },
          "metadata": {
            "needs_background": "light"
          }
        }
      ]
    }
  ]
}